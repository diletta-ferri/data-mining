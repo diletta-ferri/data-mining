{
 "cells": [
  {
   "cell_type": "code",
   "execution_count": 34,
   "metadata": {},
   "outputs": [],
   "source": [
    "import pandas as pd\n",
    "import numpy as np\n",
    "import pathlib\n",
    "import awkward as ak\n",
    "import librosa\n",
    "from tqdm.notebook import tqdm\n",
    "\n",
    "\n",
    "import matplotlib.pyplot as plt"
   ]
  },
  {
   "cell_type": "markdown",
   "metadata": {},
   "source": [
    "<h2>Local import</h2>"
   ]
  },
  {
   "cell_type": "code",
   "execution_count": 35,
   "metadata": {},
   "outputs": [],
   "source": [
    "dataset_folder = pathlib.Path(\"RavdessAudioOnly/\")"
   ]
  },
  {
   "cell_type": "code",
   "execution_count": 36,
   "metadata": {},
   "outputs": [
    {
     "data": {
      "text/plain": [
       "PosixPath('RavdessAudioOnly')"
      ]
     },
     "execution_count": 36,
     "metadata": {},
     "output_type": "execute_result"
    }
   ],
   "source": [
    "dataset_folder"
   ]
  },
  {
   "cell_type": "code",
   "execution_count": 37,
   "metadata": {},
   "outputs": [
    {
     "data": {
      "text/plain": [
       "[PosixPath('RavdessAudioOnly/03-01-01-01-01-01-01.wav'),\n",
       " PosixPath('RavdessAudioOnly/03-01-01-01-01-01-02.wav'),\n",
       " PosixPath('RavdessAudioOnly/03-01-01-01-01-01-03.wav'),\n",
       " PosixPath('RavdessAudioOnly/03-01-01-01-01-01-04.wav'),\n",
       " PosixPath('RavdessAudioOnly/03-01-01-01-01-01-05.wav'),\n",
       " PosixPath('RavdessAudioOnly/03-01-01-01-01-01-06.wav'),\n",
       " PosixPath('RavdessAudioOnly/03-01-01-01-01-01-07.wav'),\n",
       " PosixPath('RavdessAudioOnly/03-01-01-01-01-01-08.wav'),\n",
       " PosixPath('RavdessAudioOnly/03-01-01-01-01-01-09.wav'),\n",
       " PosixPath('RavdessAudioOnly/03-01-01-01-01-01-10.wav'),\n",
       " PosixPath('RavdessAudioOnly/03-01-01-01-01-01-11.wav'),\n",
       " PosixPath('RavdessAudioOnly/03-01-01-01-01-01-12.wav'),\n",
       " PosixPath('RavdessAudioOnly/03-01-01-01-01-01-13.wav'),\n",
       " PosixPath('RavdessAudioOnly/03-01-01-01-01-01-14.wav'),\n",
       " PosixPath('RavdessAudioOnly/03-01-01-01-01-01-15.wav'),\n",
       " PosixPath('RavdessAudioOnly/03-01-01-01-01-01-16.wav'),\n",
       " PosixPath('RavdessAudioOnly/03-01-01-01-01-01-17.wav'),\n",
       " PosixPath('RavdessAudioOnly/03-01-01-01-01-01-18.wav'),\n",
       " PosixPath('RavdessAudioOnly/03-01-01-01-01-01-19.wav'),\n",
       " PosixPath('RavdessAudioOnly/03-01-01-01-01-01-20.wav'),\n",
       " PosixPath('RavdessAudioOnly/03-01-01-01-01-01-21.wav'),\n",
       " PosixPath('RavdessAudioOnly/03-01-01-01-01-01-22.wav'),\n",
       " PosixPath('RavdessAudioOnly/03-01-01-01-01-01-23.wav'),\n",
       " PosixPath('RavdessAudioOnly/03-01-01-01-01-01-24.wav'),\n",
       " PosixPath('RavdessAudioOnly/03-01-01-01-01-02-01.wav'),\n",
       " PosixPath('RavdessAudioOnly/03-01-01-01-01-02-02.wav'),\n",
       " PosixPath('RavdessAudioOnly/03-01-01-01-01-02-03.wav'),\n",
       " PosixPath('RavdessAudioOnly/03-01-01-01-01-02-04.wav'),\n",
       " PosixPath('RavdessAudioOnly/03-01-01-01-01-02-05.wav'),\n",
       " PosixPath('RavdessAudioOnly/03-01-01-01-01-02-06.wav'),\n",
       " PosixPath('RavdessAudioOnly/03-01-01-01-01-02-07.wav'),\n",
       " PosixPath('RavdessAudioOnly/03-01-01-01-01-02-08.wav'),\n",
       " PosixPath('RavdessAudioOnly/03-01-01-01-01-02-09.wav'),\n",
       " PosixPath('RavdessAudioOnly/03-01-01-01-01-02-10.wav'),\n",
       " PosixPath('RavdessAudioOnly/03-01-01-01-01-02-11.wav'),\n",
       " PosixPath('RavdessAudioOnly/03-01-01-01-01-02-12.wav'),\n",
       " PosixPath('RavdessAudioOnly/03-01-01-01-01-02-13.wav'),\n",
       " PosixPath('RavdessAudioOnly/03-01-01-01-01-02-14.wav'),\n",
       " PosixPath('RavdessAudioOnly/03-01-01-01-01-02-15.wav'),\n",
       " PosixPath('RavdessAudioOnly/03-01-01-01-01-02-16.wav'),\n",
       " PosixPath('RavdessAudioOnly/03-01-01-01-01-02-17.wav'),\n",
       " PosixPath('RavdessAudioOnly/03-01-01-01-01-02-18.wav'),\n",
       " PosixPath('RavdessAudioOnly/03-01-01-01-01-02-19.wav'),\n",
       " PosixPath('RavdessAudioOnly/03-01-01-01-01-02-20.wav'),\n",
       " PosixPath('RavdessAudioOnly/03-01-01-01-01-02-21.wav'),\n",
       " PosixPath('RavdessAudioOnly/03-01-01-01-01-02-22.wav'),\n",
       " PosixPath('RavdessAudioOnly/03-01-01-01-01-02-23.wav'),\n",
       " PosixPath('RavdessAudioOnly/03-01-01-01-01-02-24.wav'),\n",
       " PosixPath('RavdessAudioOnly/03-01-01-01-02-01-01.wav'),\n",
       " PosixPath('RavdessAudioOnly/03-01-01-01-02-01-02.wav'),\n",
       " PosixPath('RavdessAudioOnly/03-01-01-01-02-01-03.wav'),\n",
       " PosixPath('RavdessAudioOnly/03-01-01-01-02-01-04.wav'),\n",
       " PosixPath('RavdessAudioOnly/03-01-01-01-02-01-05.wav'),\n",
       " PosixPath('RavdessAudioOnly/03-01-01-01-02-01-06.wav'),\n",
       " PosixPath('RavdessAudioOnly/03-01-01-01-02-01-07.wav'),\n",
       " PosixPath('RavdessAudioOnly/03-01-01-01-02-01-08.wav'),\n",
       " PosixPath('RavdessAudioOnly/03-01-01-01-02-01-09.wav'),\n",
       " PosixPath('RavdessAudioOnly/03-01-01-01-02-01-10.wav'),\n",
       " PosixPath('RavdessAudioOnly/03-01-01-01-02-01-11.wav'),\n",
       " PosixPath('RavdessAudioOnly/03-01-01-01-02-01-12.wav'),\n",
       " PosixPath('RavdessAudioOnly/03-01-01-01-02-01-13.wav'),\n",
       " PosixPath('RavdessAudioOnly/03-01-01-01-02-01-14.wav'),\n",
       " PosixPath('RavdessAudioOnly/03-01-01-01-02-01-15.wav'),\n",
       " PosixPath('RavdessAudioOnly/03-01-01-01-02-01-16.wav'),\n",
       " PosixPath('RavdessAudioOnly/03-01-01-01-02-01-17.wav'),\n",
       " PosixPath('RavdessAudioOnly/03-01-01-01-02-01-18.wav'),\n",
       " PosixPath('RavdessAudioOnly/03-01-01-01-02-01-19.wav'),\n",
       " PosixPath('RavdessAudioOnly/03-01-01-01-02-01-20.wav'),\n",
       " PosixPath('RavdessAudioOnly/03-01-01-01-02-01-21.wav'),\n",
       " PosixPath('RavdessAudioOnly/03-01-01-01-02-01-22.wav'),\n",
       " PosixPath('RavdessAudioOnly/03-01-01-01-02-01-23.wav'),\n",
       " PosixPath('RavdessAudioOnly/03-01-01-01-02-01-24.wav'),\n",
       " PosixPath('RavdessAudioOnly/03-01-01-01-02-02-01.wav'),\n",
       " PosixPath('RavdessAudioOnly/03-01-01-01-02-02-02.wav'),\n",
       " PosixPath('RavdessAudioOnly/03-01-01-01-02-02-03.wav'),\n",
       " PosixPath('RavdessAudioOnly/03-01-01-01-02-02-04.wav'),\n",
       " PosixPath('RavdessAudioOnly/03-01-01-01-02-02-05.wav'),\n",
       " PosixPath('RavdessAudioOnly/03-01-01-01-02-02-06.wav'),\n",
       " PosixPath('RavdessAudioOnly/03-01-01-01-02-02-07.wav'),\n",
       " PosixPath('RavdessAudioOnly/03-01-01-01-02-02-08.wav'),\n",
       " PosixPath('RavdessAudioOnly/03-01-01-01-02-02-09.wav'),\n",
       " PosixPath('RavdessAudioOnly/03-01-01-01-02-02-10.wav'),\n",
       " PosixPath('RavdessAudioOnly/03-01-01-01-02-02-11.wav'),\n",
       " PosixPath('RavdessAudioOnly/03-01-01-01-02-02-12.wav'),\n",
       " PosixPath('RavdessAudioOnly/03-01-01-01-02-02-13.wav'),\n",
       " PosixPath('RavdessAudioOnly/03-01-01-01-02-02-14.wav'),\n",
       " PosixPath('RavdessAudioOnly/03-01-01-01-02-02-15.wav'),\n",
       " PosixPath('RavdessAudioOnly/03-01-01-01-02-02-16.wav'),\n",
       " PosixPath('RavdessAudioOnly/03-01-01-01-02-02-17.wav'),\n",
       " PosixPath('RavdessAudioOnly/03-01-01-01-02-02-18.wav'),\n",
       " PosixPath('RavdessAudioOnly/03-01-01-01-02-02-19.wav'),\n",
       " PosixPath('RavdessAudioOnly/03-01-01-01-02-02-20.wav'),\n",
       " PosixPath('RavdessAudioOnly/03-01-01-01-02-02-21.wav'),\n",
       " PosixPath('RavdessAudioOnly/03-01-01-01-02-02-22.wav'),\n",
       " PosixPath('RavdessAudioOnly/03-01-01-01-02-02-23.wav'),\n",
       " PosixPath('RavdessAudioOnly/03-01-01-01-02-02-24.wav'),\n",
       " PosixPath('RavdessAudioOnly/03-01-02-01-01-01-01.wav'),\n",
       " PosixPath('RavdessAudioOnly/03-01-02-01-01-01-02.wav'),\n",
       " PosixPath('RavdessAudioOnly/03-01-02-01-01-01-03.wav'),\n",
       " PosixPath('RavdessAudioOnly/03-01-02-01-01-01-04.wav'),\n",
       " PosixPath('RavdessAudioOnly/03-01-02-01-01-01-05.wav'),\n",
       " PosixPath('RavdessAudioOnly/03-01-02-01-01-01-06.wav'),\n",
       " PosixPath('RavdessAudioOnly/03-01-02-01-01-01-07.wav'),\n",
       " PosixPath('RavdessAudioOnly/03-01-02-01-01-01-08.wav'),\n",
       " PosixPath('RavdessAudioOnly/03-01-02-01-01-01-09.wav'),\n",
       " PosixPath('RavdessAudioOnly/03-01-02-01-01-01-10.wav'),\n",
       " PosixPath('RavdessAudioOnly/03-01-02-01-01-01-11.wav'),\n",
       " PosixPath('RavdessAudioOnly/03-01-02-01-01-01-12.wav'),\n",
       " PosixPath('RavdessAudioOnly/03-01-02-01-01-01-13.wav'),\n",
       " PosixPath('RavdessAudioOnly/03-01-02-01-01-01-14.wav'),\n",
       " PosixPath('RavdessAudioOnly/03-01-02-01-01-01-15.wav'),\n",
       " PosixPath('RavdessAudioOnly/03-01-02-01-01-01-16.wav'),\n",
       " PosixPath('RavdessAudioOnly/03-01-02-01-01-01-17.wav'),\n",
       " PosixPath('RavdessAudioOnly/03-01-02-01-01-01-18.wav'),\n",
       " PosixPath('RavdessAudioOnly/03-01-02-01-01-01-19.wav'),\n",
       " PosixPath('RavdessAudioOnly/03-01-02-01-01-01-20.wav'),\n",
       " PosixPath('RavdessAudioOnly/03-01-02-01-01-01-21.wav'),\n",
       " PosixPath('RavdessAudioOnly/03-01-02-01-01-01-22.wav'),\n",
       " PosixPath('RavdessAudioOnly/03-01-02-01-01-01-23.wav'),\n",
       " PosixPath('RavdessAudioOnly/03-01-02-01-01-01-24.wav'),\n",
       " PosixPath('RavdessAudioOnly/03-01-02-01-01-02-01.wav'),\n",
       " PosixPath('RavdessAudioOnly/03-01-02-01-01-02-02.wav'),\n",
       " PosixPath('RavdessAudioOnly/03-01-02-01-01-02-03.wav'),\n",
       " PosixPath('RavdessAudioOnly/03-01-02-01-01-02-04.wav'),\n",
       " PosixPath('RavdessAudioOnly/03-01-02-01-01-02-05.wav'),\n",
       " PosixPath('RavdessAudioOnly/03-01-02-01-01-02-06.wav'),\n",
       " PosixPath('RavdessAudioOnly/03-01-02-01-01-02-07.wav'),\n",
       " PosixPath('RavdessAudioOnly/03-01-02-01-01-02-08.wav'),\n",
       " PosixPath('RavdessAudioOnly/03-01-02-01-01-02-09.wav'),\n",
       " PosixPath('RavdessAudioOnly/03-01-02-01-01-02-10.wav'),\n",
       " PosixPath('RavdessAudioOnly/03-01-02-01-01-02-11.wav'),\n",
       " PosixPath('RavdessAudioOnly/03-01-02-01-01-02-12.wav'),\n",
       " PosixPath('RavdessAudioOnly/03-01-02-01-01-02-13.wav'),\n",
       " PosixPath('RavdessAudioOnly/03-01-02-01-01-02-14.wav'),\n",
       " PosixPath('RavdessAudioOnly/03-01-02-01-01-02-15.wav'),\n",
       " PosixPath('RavdessAudioOnly/03-01-02-01-01-02-16.wav'),\n",
       " PosixPath('RavdessAudioOnly/03-01-02-01-01-02-17.wav'),\n",
       " PosixPath('RavdessAudioOnly/03-01-02-01-01-02-18.wav'),\n",
       " PosixPath('RavdessAudioOnly/03-01-02-01-01-02-19.wav'),\n",
       " PosixPath('RavdessAudioOnly/03-01-02-01-01-02-20.wav'),\n",
       " PosixPath('RavdessAudioOnly/03-01-02-01-01-02-21.wav'),\n",
       " PosixPath('RavdessAudioOnly/03-01-02-01-01-02-22.wav'),\n",
       " PosixPath('RavdessAudioOnly/03-01-02-01-01-02-23.wav'),\n",
       " PosixPath('RavdessAudioOnly/03-01-02-01-01-02-24.wav'),\n",
       " PosixPath('RavdessAudioOnly/03-01-02-01-02-01-01.wav'),\n",
       " PosixPath('RavdessAudioOnly/03-01-02-01-02-01-02.wav'),\n",
       " PosixPath('RavdessAudioOnly/03-01-02-01-02-01-03.wav'),\n",
       " PosixPath('RavdessAudioOnly/03-01-02-01-02-01-04.wav'),\n",
       " PosixPath('RavdessAudioOnly/03-01-02-01-02-01-05.wav'),\n",
       " PosixPath('RavdessAudioOnly/03-01-02-01-02-01-06.wav'),\n",
       " PosixPath('RavdessAudioOnly/03-01-02-01-02-01-07.wav'),\n",
       " PosixPath('RavdessAudioOnly/03-01-02-01-02-01-08.wav'),\n",
       " PosixPath('RavdessAudioOnly/03-01-02-01-02-01-09.wav'),\n",
       " PosixPath('RavdessAudioOnly/03-01-02-01-02-01-10.wav'),\n",
       " PosixPath('RavdessAudioOnly/03-01-02-01-02-01-11.wav'),\n",
       " PosixPath('RavdessAudioOnly/03-01-02-01-02-01-12.wav'),\n",
       " PosixPath('RavdessAudioOnly/03-01-02-01-02-01-13.wav'),\n",
       " PosixPath('RavdessAudioOnly/03-01-02-01-02-01-14.wav'),\n",
       " PosixPath('RavdessAudioOnly/03-01-02-01-02-01-15.wav'),\n",
       " PosixPath('RavdessAudioOnly/03-01-02-01-02-01-16.wav'),\n",
       " PosixPath('RavdessAudioOnly/03-01-02-01-02-01-17.wav'),\n",
       " PosixPath('RavdessAudioOnly/03-01-02-01-02-01-18.wav'),\n",
       " PosixPath('RavdessAudioOnly/03-01-02-01-02-01-19.wav'),\n",
       " PosixPath('RavdessAudioOnly/03-01-02-01-02-01-20.wav'),\n",
       " PosixPath('RavdessAudioOnly/03-01-02-01-02-01-21.wav'),\n",
       " PosixPath('RavdessAudioOnly/03-01-02-01-02-01-22.wav'),\n",
       " PosixPath('RavdessAudioOnly/03-01-02-01-02-01-23.wav'),\n",
       " PosixPath('RavdessAudioOnly/03-01-02-01-02-01-24.wav'),\n",
       " PosixPath('RavdessAudioOnly/03-01-02-01-02-02-01.wav'),\n",
       " PosixPath('RavdessAudioOnly/03-01-02-01-02-02-02.wav'),\n",
       " PosixPath('RavdessAudioOnly/03-01-02-01-02-02-03.wav'),\n",
       " PosixPath('RavdessAudioOnly/03-01-02-01-02-02-04.wav'),\n",
       " PosixPath('RavdessAudioOnly/03-01-02-01-02-02-05.wav'),\n",
       " PosixPath('RavdessAudioOnly/03-01-02-01-02-02-06.wav'),\n",
       " PosixPath('RavdessAudioOnly/03-01-02-01-02-02-07.wav'),\n",
       " PosixPath('RavdessAudioOnly/03-01-02-01-02-02-08.wav'),\n",
       " PosixPath('RavdessAudioOnly/03-01-02-01-02-02-09.wav'),\n",
       " PosixPath('RavdessAudioOnly/03-01-02-01-02-02-10.wav'),\n",
       " PosixPath('RavdessAudioOnly/03-01-02-01-02-02-11.wav'),\n",
       " PosixPath('RavdessAudioOnly/03-01-02-01-02-02-12.wav'),\n",
       " PosixPath('RavdessAudioOnly/03-01-02-01-02-02-13.wav'),\n",
       " PosixPath('RavdessAudioOnly/03-01-02-01-02-02-14.wav'),\n",
       " PosixPath('RavdessAudioOnly/03-01-02-01-02-02-15.wav'),\n",
       " PosixPath('RavdessAudioOnly/03-01-02-01-02-02-16.wav'),\n",
       " PosixPath('RavdessAudioOnly/03-01-02-01-02-02-17.wav'),\n",
       " PosixPath('RavdessAudioOnly/03-01-02-01-02-02-18.wav'),\n",
       " PosixPath('RavdessAudioOnly/03-01-02-01-02-02-19.wav'),\n",
       " PosixPath('RavdessAudioOnly/03-01-02-01-02-02-20.wav'),\n",
       " PosixPath('RavdessAudioOnly/03-01-02-01-02-02-21.wav'),\n",
       " PosixPath('RavdessAudioOnly/03-01-02-01-02-02-22.wav'),\n",
       " PosixPath('RavdessAudioOnly/03-01-02-01-02-02-23.wav'),\n",
       " PosixPath('RavdessAudioOnly/03-01-02-01-02-02-24.wav'),\n",
       " PosixPath('RavdessAudioOnly/03-01-02-02-01-01-01.wav'),\n",
       " PosixPath('RavdessAudioOnly/03-01-02-02-01-01-02.wav'),\n",
       " PosixPath('RavdessAudioOnly/03-01-02-02-01-01-03.wav'),\n",
       " PosixPath('RavdessAudioOnly/03-01-02-02-01-01-04.wav'),\n",
       " PosixPath('RavdessAudioOnly/03-01-02-02-01-01-05.wav'),\n",
       " PosixPath('RavdessAudioOnly/03-01-02-02-01-01-06.wav'),\n",
       " PosixPath('RavdessAudioOnly/03-01-02-02-01-01-07.wav'),\n",
       " PosixPath('RavdessAudioOnly/03-01-02-02-01-01-08.wav'),\n",
       " PosixPath('RavdessAudioOnly/03-01-02-02-01-01-09.wav'),\n",
       " PosixPath('RavdessAudioOnly/03-01-02-02-01-01-10.wav'),\n",
       " PosixPath('RavdessAudioOnly/03-01-02-02-01-01-11.wav'),\n",
       " PosixPath('RavdessAudioOnly/03-01-02-02-01-01-12.wav'),\n",
       " PosixPath('RavdessAudioOnly/03-01-02-02-01-01-13.wav'),\n",
       " PosixPath('RavdessAudioOnly/03-01-02-02-01-01-14.wav'),\n",
       " PosixPath('RavdessAudioOnly/03-01-02-02-01-01-15.wav'),\n",
       " PosixPath('RavdessAudioOnly/03-01-02-02-01-01-16.wav'),\n",
       " PosixPath('RavdessAudioOnly/03-01-02-02-01-01-17.wav'),\n",
       " PosixPath('RavdessAudioOnly/03-01-02-02-01-01-18.wav'),\n",
       " PosixPath('RavdessAudioOnly/03-01-02-02-01-01-19.wav'),\n",
       " PosixPath('RavdessAudioOnly/03-01-02-02-01-01-20.wav'),\n",
       " PosixPath('RavdessAudioOnly/03-01-02-02-01-01-21.wav'),\n",
       " PosixPath('RavdessAudioOnly/03-01-02-02-01-01-22.wav'),\n",
       " PosixPath('RavdessAudioOnly/03-01-02-02-01-01-23.wav'),\n",
       " PosixPath('RavdessAudioOnly/03-01-02-02-01-01-24.wav'),\n",
       " PosixPath('RavdessAudioOnly/03-01-02-02-01-02-01.wav'),\n",
       " PosixPath('RavdessAudioOnly/03-01-02-02-01-02-02.wav'),\n",
       " PosixPath('RavdessAudioOnly/03-01-02-02-01-02-03.wav'),\n",
       " PosixPath('RavdessAudioOnly/03-01-02-02-01-02-04.wav'),\n",
       " PosixPath('RavdessAudioOnly/03-01-02-02-01-02-05.wav'),\n",
       " PosixPath('RavdessAudioOnly/03-01-02-02-01-02-06.wav'),\n",
       " PosixPath('RavdessAudioOnly/03-01-02-02-01-02-07.wav'),\n",
       " PosixPath('RavdessAudioOnly/03-01-02-02-01-02-08.wav'),\n",
       " PosixPath('RavdessAudioOnly/03-01-02-02-01-02-09.wav'),\n",
       " PosixPath('RavdessAudioOnly/03-01-02-02-01-02-10.wav'),\n",
       " PosixPath('RavdessAudioOnly/03-01-02-02-01-02-11.wav'),\n",
       " PosixPath('RavdessAudioOnly/03-01-02-02-01-02-12.wav'),\n",
       " PosixPath('RavdessAudioOnly/03-01-02-02-01-02-13.wav'),\n",
       " PosixPath('RavdessAudioOnly/03-01-02-02-01-02-14.wav'),\n",
       " PosixPath('RavdessAudioOnly/03-01-02-02-01-02-15.wav'),\n",
       " PosixPath('RavdessAudioOnly/03-01-02-02-01-02-16.wav'),\n",
       " PosixPath('RavdessAudioOnly/03-01-02-02-01-02-17.wav'),\n",
       " PosixPath('RavdessAudioOnly/03-01-02-02-01-02-18.wav'),\n",
       " PosixPath('RavdessAudioOnly/03-01-02-02-01-02-19.wav'),\n",
       " PosixPath('RavdessAudioOnly/03-01-02-02-01-02-20.wav'),\n",
       " PosixPath('RavdessAudioOnly/03-01-02-02-01-02-21.wav'),\n",
       " PosixPath('RavdessAudioOnly/03-01-02-02-01-02-22.wav'),\n",
       " PosixPath('RavdessAudioOnly/03-01-02-02-01-02-23.wav'),\n",
       " PosixPath('RavdessAudioOnly/03-01-02-02-01-02-24.wav'),\n",
       " PosixPath('RavdessAudioOnly/03-01-02-02-02-01-01.wav'),\n",
       " PosixPath('RavdessAudioOnly/03-01-02-02-02-01-02.wav'),\n",
       " PosixPath('RavdessAudioOnly/03-01-02-02-02-01-03.wav'),\n",
       " PosixPath('RavdessAudioOnly/03-01-02-02-02-01-04.wav'),\n",
       " PosixPath('RavdessAudioOnly/03-01-02-02-02-01-05.wav'),\n",
       " PosixPath('RavdessAudioOnly/03-01-02-02-02-01-06.wav'),\n",
       " PosixPath('RavdessAudioOnly/03-01-02-02-02-01-07.wav'),\n",
       " PosixPath('RavdessAudioOnly/03-01-02-02-02-01-08.wav'),\n",
       " PosixPath('RavdessAudioOnly/03-01-02-02-02-01-09.wav'),\n",
       " PosixPath('RavdessAudioOnly/03-01-02-02-02-01-10.wav'),\n",
       " PosixPath('RavdessAudioOnly/03-01-02-02-02-01-11.wav'),\n",
       " PosixPath('RavdessAudioOnly/03-01-02-02-02-01-12.wav'),\n",
       " PosixPath('RavdessAudioOnly/03-01-02-02-02-01-13.wav'),\n",
       " PosixPath('RavdessAudioOnly/03-01-02-02-02-01-14.wav'),\n",
       " PosixPath('RavdessAudioOnly/03-01-02-02-02-01-15.wav'),\n",
       " PosixPath('RavdessAudioOnly/03-01-02-02-02-01-16.wav'),\n",
       " PosixPath('RavdessAudioOnly/03-01-02-02-02-01-17.wav'),\n",
       " PosixPath('RavdessAudioOnly/03-01-02-02-02-01-18.wav'),\n",
       " PosixPath('RavdessAudioOnly/03-01-02-02-02-01-19.wav'),\n",
       " PosixPath('RavdessAudioOnly/03-01-02-02-02-01-20.wav'),\n",
       " PosixPath('RavdessAudioOnly/03-01-02-02-02-01-21.wav'),\n",
       " PosixPath('RavdessAudioOnly/03-01-02-02-02-01-22.wav'),\n",
       " PosixPath('RavdessAudioOnly/03-01-02-02-02-01-23.wav'),\n",
       " PosixPath('RavdessAudioOnly/03-01-02-02-02-01-24.wav'),\n",
       " PosixPath('RavdessAudioOnly/03-01-02-02-02-02-01.wav'),\n",
       " PosixPath('RavdessAudioOnly/03-01-02-02-02-02-02.wav'),\n",
       " PosixPath('RavdessAudioOnly/03-01-02-02-02-02-03.wav'),\n",
       " PosixPath('RavdessAudioOnly/03-01-02-02-02-02-04.wav'),\n",
       " PosixPath('RavdessAudioOnly/03-01-02-02-02-02-05.wav'),\n",
       " PosixPath('RavdessAudioOnly/03-01-02-02-02-02-06.wav'),\n",
       " PosixPath('RavdessAudioOnly/03-01-02-02-02-02-07.wav'),\n",
       " PosixPath('RavdessAudioOnly/03-01-02-02-02-02-08.wav'),\n",
       " PosixPath('RavdessAudioOnly/03-01-02-02-02-02-09.wav'),\n",
       " PosixPath('RavdessAudioOnly/03-01-02-02-02-02-10.wav'),\n",
       " PosixPath('RavdessAudioOnly/03-01-02-02-02-02-11.wav'),\n",
       " PosixPath('RavdessAudioOnly/03-01-02-02-02-02-12.wav'),\n",
       " PosixPath('RavdessAudioOnly/03-01-02-02-02-02-13.wav'),\n",
       " PosixPath('RavdessAudioOnly/03-01-02-02-02-02-14.wav'),\n",
       " PosixPath('RavdessAudioOnly/03-01-02-02-02-02-15.wav'),\n",
       " PosixPath('RavdessAudioOnly/03-01-02-02-02-02-16.wav'),\n",
       " PosixPath('RavdessAudioOnly/03-01-02-02-02-02-17.wav'),\n",
       " PosixPath('RavdessAudioOnly/03-01-02-02-02-02-18.wav'),\n",
       " PosixPath('RavdessAudioOnly/03-01-02-02-02-02-19.wav'),\n",
       " PosixPath('RavdessAudioOnly/03-01-02-02-02-02-20.wav'),\n",
       " PosixPath('RavdessAudioOnly/03-01-02-02-02-02-21.wav'),\n",
       " PosixPath('RavdessAudioOnly/03-01-02-02-02-02-22.wav'),\n",
       " PosixPath('RavdessAudioOnly/03-01-02-02-02-02-23.wav'),\n",
       " PosixPath('RavdessAudioOnly/03-01-02-02-02-02-24.wav'),\n",
       " PosixPath('RavdessAudioOnly/03-01-03-01-01-01-01.wav'),\n",
       " PosixPath('RavdessAudioOnly/03-01-03-01-01-01-02.wav'),\n",
       " PosixPath('RavdessAudioOnly/03-01-03-01-01-01-03.wav'),\n",
       " PosixPath('RavdessAudioOnly/03-01-03-01-01-01-04.wav'),\n",
       " PosixPath('RavdessAudioOnly/03-01-03-01-01-01-05.wav'),\n",
       " PosixPath('RavdessAudioOnly/03-01-03-01-01-01-06.wav'),\n",
       " PosixPath('RavdessAudioOnly/03-01-03-01-01-01-07.wav'),\n",
       " PosixPath('RavdessAudioOnly/03-01-03-01-01-01-08.wav'),\n",
       " PosixPath('RavdessAudioOnly/03-01-03-01-01-01-09.wav'),\n",
       " PosixPath('RavdessAudioOnly/03-01-03-01-01-01-10.wav'),\n",
       " PosixPath('RavdessAudioOnly/03-01-03-01-01-01-11.wav'),\n",
       " PosixPath('RavdessAudioOnly/03-01-03-01-01-01-12.wav'),\n",
       " PosixPath('RavdessAudioOnly/03-01-03-01-01-01-13.wav'),\n",
       " PosixPath('RavdessAudioOnly/03-01-03-01-01-01-14.wav'),\n",
       " PosixPath('RavdessAudioOnly/03-01-03-01-01-01-15.wav'),\n",
       " PosixPath('RavdessAudioOnly/03-01-03-01-01-01-16.wav'),\n",
       " PosixPath('RavdessAudioOnly/03-01-03-01-01-01-17.wav'),\n",
       " PosixPath('RavdessAudioOnly/03-01-03-01-01-01-18.wav'),\n",
       " PosixPath('RavdessAudioOnly/03-01-03-01-01-01-19.wav'),\n",
       " PosixPath('RavdessAudioOnly/03-01-03-01-01-01-20.wav'),\n",
       " PosixPath('RavdessAudioOnly/03-01-03-01-01-01-21.wav'),\n",
       " PosixPath('RavdessAudioOnly/03-01-03-01-01-01-22.wav'),\n",
       " PosixPath('RavdessAudioOnly/03-01-03-01-01-01-23.wav'),\n",
       " PosixPath('RavdessAudioOnly/03-01-03-01-01-01-24.wav'),\n",
       " PosixPath('RavdessAudioOnly/03-01-03-01-01-02-01.wav'),\n",
       " PosixPath('RavdessAudioOnly/03-01-03-01-01-02-02.wav'),\n",
       " PosixPath('RavdessAudioOnly/03-01-03-01-01-02-03.wav'),\n",
       " PosixPath('RavdessAudioOnly/03-01-03-01-01-02-04.wav'),\n",
       " PosixPath('RavdessAudioOnly/03-01-03-01-01-02-05.wav'),\n",
       " PosixPath('RavdessAudioOnly/03-01-03-01-01-02-06.wav'),\n",
       " PosixPath('RavdessAudioOnly/03-01-03-01-01-02-07.wav'),\n",
       " PosixPath('RavdessAudioOnly/03-01-03-01-01-02-08.wav'),\n",
       " PosixPath('RavdessAudioOnly/03-01-03-01-01-02-09.wav'),\n",
       " PosixPath('RavdessAudioOnly/03-01-03-01-01-02-10.wav'),\n",
       " PosixPath('RavdessAudioOnly/03-01-03-01-01-02-11.wav'),\n",
       " PosixPath('RavdessAudioOnly/03-01-03-01-01-02-12.wav'),\n",
       " PosixPath('RavdessAudioOnly/03-01-03-01-01-02-13.wav'),\n",
       " PosixPath('RavdessAudioOnly/03-01-03-01-01-02-14.wav'),\n",
       " PosixPath('RavdessAudioOnly/03-01-03-01-01-02-15.wav'),\n",
       " PosixPath('RavdessAudioOnly/03-01-03-01-01-02-16.wav'),\n",
       " PosixPath('RavdessAudioOnly/03-01-03-01-01-02-17.wav'),\n",
       " PosixPath('RavdessAudioOnly/03-01-03-01-01-02-18.wav'),\n",
       " PosixPath('RavdessAudioOnly/03-01-03-01-01-02-19.wav'),\n",
       " PosixPath('RavdessAudioOnly/03-01-03-01-01-02-20.wav'),\n",
       " PosixPath('RavdessAudioOnly/03-01-03-01-01-02-21.wav'),\n",
       " PosixPath('RavdessAudioOnly/03-01-03-01-01-02-22.wav'),\n",
       " PosixPath('RavdessAudioOnly/03-01-03-01-01-02-23.wav'),\n",
       " PosixPath('RavdessAudioOnly/03-01-03-01-01-02-24.wav'),\n",
       " PosixPath('RavdessAudioOnly/03-01-03-01-02-01-01.wav'),\n",
       " PosixPath('RavdessAudioOnly/03-01-03-01-02-01-02.wav'),\n",
       " PosixPath('RavdessAudioOnly/03-01-03-01-02-01-03.wav'),\n",
       " PosixPath('RavdessAudioOnly/03-01-03-01-02-01-04.wav'),\n",
       " PosixPath('RavdessAudioOnly/03-01-03-01-02-01-05.wav'),\n",
       " PosixPath('RavdessAudioOnly/03-01-03-01-02-01-06.wav'),\n",
       " PosixPath('RavdessAudioOnly/03-01-03-01-02-01-07.wav'),\n",
       " PosixPath('RavdessAudioOnly/03-01-03-01-02-01-08.wav'),\n",
       " PosixPath('RavdessAudioOnly/03-01-03-01-02-01-09.wav'),\n",
       " PosixPath('RavdessAudioOnly/03-01-03-01-02-01-10.wav'),\n",
       " PosixPath('RavdessAudioOnly/03-01-03-01-02-01-11.wav'),\n",
       " PosixPath('RavdessAudioOnly/03-01-03-01-02-01-12.wav'),\n",
       " PosixPath('RavdessAudioOnly/03-01-03-01-02-01-13.wav'),\n",
       " PosixPath('RavdessAudioOnly/03-01-03-01-02-01-14.wav'),\n",
       " PosixPath('RavdessAudioOnly/03-01-03-01-02-01-15.wav'),\n",
       " PosixPath('RavdessAudioOnly/03-01-03-01-02-01-16.wav'),\n",
       " PosixPath('RavdessAudioOnly/03-01-03-01-02-01-17.wav'),\n",
       " PosixPath('RavdessAudioOnly/03-01-03-01-02-01-18.wav'),\n",
       " PosixPath('RavdessAudioOnly/03-01-03-01-02-01-19.wav'),\n",
       " PosixPath('RavdessAudioOnly/03-01-03-01-02-01-20.wav'),\n",
       " PosixPath('RavdessAudioOnly/03-01-03-01-02-01-21.wav'),\n",
       " PosixPath('RavdessAudioOnly/03-01-03-01-02-01-22.wav'),\n",
       " PosixPath('RavdessAudioOnly/03-01-03-01-02-01-23.wav'),\n",
       " PosixPath('RavdessAudioOnly/03-01-03-01-02-01-24.wav'),\n",
       " PosixPath('RavdessAudioOnly/03-01-03-01-02-02-01.wav'),\n",
       " PosixPath('RavdessAudioOnly/03-01-03-01-02-02-02.wav'),\n",
       " PosixPath('RavdessAudioOnly/03-01-03-01-02-02-03.wav'),\n",
       " PosixPath('RavdessAudioOnly/03-01-03-01-02-02-04.wav'),\n",
       " PosixPath('RavdessAudioOnly/03-01-03-01-02-02-05.wav'),\n",
       " PosixPath('RavdessAudioOnly/03-01-03-01-02-02-06.wav'),\n",
       " PosixPath('RavdessAudioOnly/03-01-03-01-02-02-07.wav'),\n",
       " PosixPath('RavdessAudioOnly/03-01-03-01-02-02-08.wav'),\n",
       " PosixPath('RavdessAudioOnly/03-01-03-01-02-02-09.wav'),\n",
       " PosixPath('RavdessAudioOnly/03-01-03-01-02-02-10.wav'),\n",
       " PosixPath('RavdessAudioOnly/03-01-03-01-02-02-11.wav'),\n",
       " PosixPath('RavdessAudioOnly/03-01-03-01-02-02-12.wav'),\n",
       " PosixPath('RavdessAudioOnly/03-01-03-01-02-02-13.wav'),\n",
       " PosixPath('RavdessAudioOnly/03-01-03-01-02-02-14.wav'),\n",
       " PosixPath('RavdessAudioOnly/03-01-03-01-02-02-15.wav'),\n",
       " PosixPath('RavdessAudioOnly/03-01-03-01-02-02-16.wav'),\n",
       " PosixPath('RavdessAudioOnly/03-01-03-01-02-02-17.wav'),\n",
       " PosixPath('RavdessAudioOnly/03-01-03-01-02-02-18.wav'),\n",
       " PosixPath('RavdessAudioOnly/03-01-03-01-02-02-19.wav'),\n",
       " PosixPath('RavdessAudioOnly/03-01-03-01-02-02-20.wav'),\n",
       " PosixPath('RavdessAudioOnly/03-01-03-01-02-02-21.wav'),\n",
       " PosixPath('RavdessAudioOnly/03-01-03-01-02-02-22.wav'),\n",
       " PosixPath('RavdessAudioOnly/03-01-03-01-02-02-23.wav'),\n",
       " PosixPath('RavdessAudioOnly/03-01-03-01-02-02-24.wav'),\n",
       " PosixPath('RavdessAudioOnly/03-01-03-02-01-01-01.wav'),\n",
       " PosixPath('RavdessAudioOnly/03-01-03-02-01-01-02.wav'),\n",
       " PosixPath('RavdessAudioOnly/03-01-03-02-01-01-03.wav'),\n",
       " PosixPath('RavdessAudioOnly/03-01-03-02-01-01-04.wav'),\n",
       " PosixPath('RavdessAudioOnly/03-01-03-02-01-01-05.wav'),\n",
       " PosixPath('RavdessAudioOnly/03-01-03-02-01-01-06.wav'),\n",
       " PosixPath('RavdessAudioOnly/03-01-03-02-01-01-07.wav'),\n",
       " PosixPath('RavdessAudioOnly/03-01-03-02-01-01-08.wav'),\n",
       " PosixPath('RavdessAudioOnly/03-01-03-02-01-01-09.wav'),\n",
       " PosixPath('RavdessAudioOnly/03-01-03-02-01-01-10.wav'),\n",
       " PosixPath('RavdessAudioOnly/03-01-03-02-01-01-11.wav'),\n",
       " PosixPath('RavdessAudioOnly/03-01-03-02-01-01-12.wav'),\n",
       " PosixPath('RavdessAudioOnly/03-01-03-02-01-01-13.wav'),\n",
       " PosixPath('RavdessAudioOnly/03-01-03-02-01-01-14.wav'),\n",
       " PosixPath('RavdessAudioOnly/03-01-03-02-01-01-15.wav'),\n",
       " PosixPath('RavdessAudioOnly/03-01-03-02-01-01-16.wav'),\n",
       " PosixPath('RavdessAudioOnly/03-01-03-02-01-01-17.wav'),\n",
       " PosixPath('RavdessAudioOnly/03-01-03-02-01-01-18.wav'),\n",
       " PosixPath('RavdessAudioOnly/03-01-03-02-01-01-19.wav'),\n",
       " PosixPath('RavdessAudioOnly/03-01-03-02-01-01-20.wav'),\n",
       " PosixPath('RavdessAudioOnly/03-01-03-02-01-01-21.wav'),\n",
       " PosixPath('RavdessAudioOnly/03-01-03-02-01-01-22.wav'),\n",
       " PosixPath('RavdessAudioOnly/03-01-03-02-01-01-23.wav'),\n",
       " PosixPath('RavdessAudioOnly/03-01-03-02-01-01-24.wav'),\n",
       " PosixPath('RavdessAudioOnly/03-01-03-02-01-02-01.wav'),\n",
       " PosixPath('RavdessAudioOnly/03-01-03-02-01-02-02.wav'),\n",
       " PosixPath('RavdessAudioOnly/03-01-03-02-01-02-03.wav'),\n",
       " PosixPath('RavdessAudioOnly/03-01-03-02-01-02-04.wav'),\n",
       " PosixPath('RavdessAudioOnly/03-01-03-02-01-02-05.wav'),\n",
       " PosixPath('RavdessAudioOnly/03-01-03-02-01-02-06.wav'),\n",
       " PosixPath('RavdessAudioOnly/03-01-03-02-01-02-07.wav'),\n",
       " PosixPath('RavdessAudioOnly/03-01-03-02-01-02-08.wav'),\n",
       " PosixPath('RavdessAudioOnly/03-01-03-02-01-02-09.wav'),\n",
       " PosixPath('RavdessAudioOnly/03-01-03-02-01-02-10.wav'),\n",
       " PosixPath('RavdessAudioOnly/03-01-03-02-01-02-11.wav'),\n",
       " PosixPath('RavdessAudioOnly/03-01-03-02-01-02-12.wav'),\n",
       " PosixPath('RavdessAudioOnly/03-01-03-02-01-02-13.wav'),\n",
       " PosixPath('RavdessAudioOnly/03-01-03-02-01-02-14.wav'),\n",
       " PosixPath('RavdessAudioOnly/03-01-03-02-01-02-15.wav'),\n",
       " PosixPath('RavdessAudioOnly/03-01-03-02-01-02-16.wav'),\n",
       " PosixPath('RavdessAudioOnly/03-01-03-02-01-02-17.wav'),\n",
       " PosixPath('RavdessAudioOnly/03-01-03-02-01-02-18.wav'),\n",
       " PosixPath('RavdessAudioOnly/03-01-03-02-01-02-19.wav'),\n",
       " PosixPath('RavdessAudioOnly/03-01-03-02-01-02-20.wav'),\n",
       " PosixPath('RavdessAudioOnly/03-01-03-02-01-02-21.wav'),\n",
       " PosixPath('RavdessAudioOnly/03-01-03-02-01-02-22.wav'),\n",
       " PosixPath('RavdessAudioOnly/03-01-03-02-01-02-23.wav'),\n",
       " PosixPath('RavdessAudioOnly/03-01-03-02-01-02-24.wav'),\n",
       " PosixPath('RavdessAudioOnly/03-01-03-02-02-01-01.wav'),\n",
       " PosixPath('RavdessAudioOnly/03-01-03-02-02-01-02.wav'),\n",
       " PosixPath('RavdessAudioOnly/03-01-03-02-02-01-03.wav'),\n",
       " PosixPath('RavdessAudioOnly/03-01-03-02-02-01-04.wav'),\n",
       " PosixPath('RavdessAudioOnly/03-01-03-02-02-01-05.wav'),\n",
       " PosixPath('RavdessAudioOnly/03-01-03-02-02-01-06.wav'),\n",
       " PosixPath('RavdessAudioOnly/03-01-03-02-02-01-07.wav'),\n",
       " PosixPath('RavdessAudioOnly/03-01-03-02-02-01-08.wav'),\n",
       " PosixPath('RavdessAudioOnly/03-01-03-02-02-01-09.wav'),\n",
       " PosixPath('RavdessAudioOnly/03-01-03-02-02-01-10.wav'),\n",
       " PosixPath('RavdessAudioOnly/03-01-03-02-02-01-11.wav'),\n",
       " PosixPath('RavdessAudioOnly/03-01-03-02-02-01-12.wav'),\n",
       " PosixPath('RavdessAudioOnly/03-01-03-02-02-01-13.wav'),\n",
       " PosixPath('RavdessAudioOnly/03-01-03-02-02-01-14.wav'),\n",
       " PosixPath('RavdessAudioOnly/03-01-03-02-02-01-15.wav'),\n",
       " PosixPath('RavdessAudioOnly/03-01-03-02-02-01-16.wav'),\n",
       " PosixPath('RavdessAudioOnly/03-01-03-02-02-01-17.wav'),\n",
       " PosixPath('RavdessAudioOnly/03-01-03-02-02-01-18.wav'),\n",
       " PosixPath('RavdessAudioOnly/03-01-03-02-02-01-19.wav'),\n",
       " PosixPath('RavdessAudioOnly/03-01-03-02-02-01-20.wav'),\n",
       " PosixPath('RavdessAudioOnly/03-01-03-02-02-01-21.wav'),\n",
       " PosixPath('RavdessAudioOnly/03-01-03-02-02-01-22.wav'),\n",
       " PosixPath('RavdessAudioOnly/03-01-03-02-02-01-23.wav'),\n",
       " PosixPath('RavdessAudioOnly/03-01-03-02-02-01-24.wav'),\n",
       " PosixPath('RavdessAudioOnly/03-01-03-02-02-02-01.wav'),\n",
       " PosixPath('RavdessAudioOnly/03-01-03-02-02-02-02.wav'),\n",
       " PosixPath('RavdessAudioOnly/03-01-03-02-02-02-03.wav'),\n",
       " PosixPath('RavdessAudioOnly/03-01-03-02-02-02-04.wav'),\n",
       " PosixPath('RavdessAudioOnly/03-01-03-02-02-02-05.wav'),\n",
       " PosixPath('RavdessAudioOnly/03-01-03-02-02-02-06.wav'),\n",
       " PosixPath('RavdessAudioOnly/03-01-03-02-02-02-07.wav'),\n",
       " PosixPath('RavdessAudioOnly/03-01-03-02-02-02-08.wav'),\n",
       " PosixPath('RavdessAudioOnly/03-01-03-02-02-02-09.wav'),\n",
       " PosixPath('RavdessAudioOnly/03-01-03-02-02-02-10.wav'),\n",
       " PosixPath('RavdessAudioOnly/03-01-03-02-02-02-11.wav'),\n",
       " PosixPath('RavdessAudioOnly/03-01-03-02-02-02-12.wav'),\n",
       " PosixPath('RavdessAudioOnly/03-01-03-02-02-02-13.wav'),\n",
       " PosixPath('RavdessAudioOnly/03-01-03-02-02-02-14.wav'),\n",
       " PosixPath('RavdessAudioOnly/03-01-03-02-02-02-15.wav'),\n",
       " PosixPath('RavdessAudioOnly/03-01-03-02-02-02-16.wav'),\n",
       " PosixPath('RavdessAudioOnly/03-01-03-02-02-02-17.wav'),\n",
       " PosixPath('RavdessAudioOnly/03-01-03-02-02-02-18.wav'),\n",
       " PosixPath('RavdessAudioOnly/03-01-03-02-02-02-19.wav'),\n",
       " PosixPath('RavdessAudioOnly/03-01-03-02-02-02-20.wav'),\n",
       " PosixPath('RavdessAudioOnly/03-01-03-02-02-02-21.wav'),\n",
       " PosixPath('RavdessAudioOnly/03-01-03-02-02-02-22.wav'),\n",
       " PosixPath('RavdessAudioOnly/03-01-03-02-02-02-23.wav'),\n",
       " PosixPath('RavdessAudioOnly/03-01-03-02-02-02-24.wav'),\n",
       " PosixPath('RavdessAudioOnly/03-01-04-01-01-01-01.wav'),\n",
       " PosixPath('RavdessAudioOnly/03-01-04-01-01-01-02.wav'),\n",
       " PosixPath('RavdessAudioOnly/03-01-04-01-01-01-03.wav'),\n",
       " PosixPath('RavdessAudioOnly/03-01-04-01-01-01-04.wav'),\n",
       " PosixPath('RavdessAudioOnly/03-01-04-01-01-01-05.wav'),\n",
       " PosixPath('RavdessAudioOnly/03-01-04-01-01-01-06.wav'),\n",
       " PosixPath('RavdessAudioOnly/03-01-04-01-01-01-07.wav'),\n",
       " PosixPath('RavdessAudioOnly/03-01-04-01-01-01-08.wav'),\n",
       " PosixPath('RavdessAudioOnly/03-01-04-01-01-01-09.wav'),\n",
       " PosixPath('RavdessAudioOnly/03-01-04-01-01-01-10.wav'),\n",
       " PosixPath('RavdessAudioOnly/03-01-04-01-01-01-11.wav'),\n",
       " PosixPath('RavdessAudioOnly/03-01-04-01-01-01-12.wav'),\n",
       " PosixPath('RavdessAudioOnly/03-01-04-01-01-01-13.wav'),\n",
       " PosixPath('RavdessAudioOnly/03-01-04-01-01-01-14.wav'),\n",
       " PosixPath('RavdessAudioOnly/03-01-04-01-01-01-15.wav'),\n",
       " PosixPath('RavdessAudioOnly/03-01-04-01-01-01-16.wav'),\n",
       " PosixPath('RavdessAudioOnly/03-01-04-01-01-01-17.wav'),\n",
       " PosixPath('RavdessAudioOnly/03-01-04-01-01-01-18.wav'),\n",
       " PosixPath('RavdessAudioOnly/03-01-04-01-01-01-19.wav'),\n",
       " PosixPath('RavdessAudioOnly/03-01-04-01-01-01-20.wav'),\n",
       " PosixPath('RavdessAudioOnly/03-01-04-01-01-01-21.wav'),\n",
       " PosixPath('RavdessAudioOnly/03-01-04-01-01-01-22.wav'),\n",
       " PosixPath('RavdessAudioOnly/03-01-04-01-01-01-23.wav'),\n",
       " PosixPath('RavdessAudioOnly/03-01-04-01-01-01-24.wav'),\n",
       " PosixPath('RavdessAudioOnly/03-01-04-01-01-02-01.wav'),\n",
       " PosixPath('RavdessAudioOnly/03-01-04-01-01-02-02.wav'),\n",
       " PosixPath('RavdessAudioOnly/03-01-04-01-01-02-03.wav'),\n",
       " PosixPath('RavdessAudioOnly/03-01-04-01-01-02-04.wav'),\n",
       " PosixPath('RavdessAudioOnly/03-01-04-01-01-02-05.wav'),\n",
       " PosixPath('RavdessAudioOnly/03-01-04-01-01-02-06.wav'),\n",
       " PosixPath('RavdessAudioOnly/03-01-04-01-01-02-07.wav'),\n",
       " PosixPath('RavdessAudioOnly/03-01-04-01-01-02-08.wav'),\n",
       " PosixPath('RavdessAudioOnly/03-01-04-01-01-02-09.wav'),\n",
       " PosixPath('RavdessAudioOnly/03-01-04-01-01-02-10.wav'),\n",
       " PosixPath('RavdessAudioOnly/03-01-04-01-01-02-11.wav'),\n",
       " PosixPath('RavdessAudioOnly/03-01-04-01-01-02-12.wav'),\n",
       " PosixPath('RavdessAudioOnly/03-01-04-01-01-02-13.wav'),\n",
       " PosixPath('RavdessAudioOnly/03-01-04-01-01-02-14.wav'),\n",
       " PosixPath('RavdessAudioOnly/03-01-04-01-01-02-15.wav'),\n",
       " PosixPath('RavdessAudioOnly/03-01-04-01-01-02-16.wav'),\n",
       " PosixPath('RavdessAudioOnly/03-01-04-01-01-02-17.wav'),\n",
       " PosixPath('RavdessAudioOnly/03-01-04-01-01-02-18.wav'),\n",
       " PosixPath('RavdessAudioOnly/03-01-04-01-01-02-19.wav'),\n",
       " PosixPath('RavdessAudioOnly/03-01-04-01-01-02-20.wav'),\n",
       " PosixPath('RavdessAudioOnly/03-01-04-01-01-02-21.wav'),\n",
       " PosixPath('RavdessAudioOnly/03-01-04-01-01-02-22.wav'),\n",
       " PosixPath('RavdessAudioOnly/03-01-04-01-01-02-23.wav'),\n",
       " PosixPath('RavdessAudioOnly/03-01-04-01-01-02-24.wav'),\n",
       " PosixPath('RavdessAudioOnly/03-01-04-01-02-01-01.wav'),\n",
       " PosixPath('RavdessAudioOnly/03-01-04-01-02-01-02.wav'),\n",
       " PosixPath('RavdessAudioOnly/03-01-04-01-02-01-03.wav'),\n",
       " PosixPath('RavdessAudioOnly/03-01-04-01-02-01-04.wav'),\n",
       " PosixPath('RavdessAudioOnly/03-01-04-01-02-01-05.wav'),\n",
       " PosixPath('RavdessAudioOnly/03-01-04-01-02-01-06.wav'),\n",
       " PosixPath('RavdessAudioOnly/03-01-04-01-02-01-07.wav'),\n",
       " PosixPath('RavdessAudioOnly/03-01-04-01-02-01-08.wav'),\n",
       " PosixPath('RavdessAudioOnly/03-01-04-01-02-01-09.wav'),\n",
       " PosixPath('RavdessAudioOnly/03-01-04-01-02-01-10.wav'),\n",
       " PosixPath('RavdessAudioOnly/03-01-04-01-02-01-11.wav'),\n",
       " PosixPath('RavdessAudioOnly/03-01-04-01-02-01-12.wav'),\n",
       " PosixPath('RavdessAudioOnly/03-01-04-01-02-01-13.wav'),\n",
       " PosixPath('RavdessAudioOnly/03-01-04-01-02-01-14.wav'),\n",
       " PosixPath('RavdessAudioOnly/03-01-04-01-02-01-15.wav'),\n",
       " PosixPath('RavdessAudioOnly/03-01-04-01-02-01-16.wav'),\n",
       " PosixPath('RavdessAudioOnly/03-01-04-01-02-01-17.wav'),\n",
       " PosixPath('RavdessAudioOnly/03-01-04-01-02-01-18.wav'),\n",
       " PosixPath('RavdessAudioOnly/03-01-04-01-02-01-19.wav'),\n",
       " PosixPath('RavdessAudioOnly/03-01-04-01-02-01-20.wav'),\n",
       " PosixPath('RavdessAudioOnly/03-01-04-01-02-01-21.wav'),\n",
       " PosixPath('RavdessAudioOnly/03-01-04-01-02-01-22.wav'),\n",
       " PosixPath('RavdessAudioOnly/03-01-04-01-02-01-23.wav'),\n",
       " PosixPath('RavdessAudioOnly/03-01-04-01-02-01-24.wav'),\n",
       " PosixPath('RavdessAudioOnly/03-01-04-01-02-02-01.wav'),\n",
       " PosixPath('RavdessAudioOnly/03-01-04-01-02-02-02.wav'),\n",
       " PosixPath('RavdessAudioOnly/03-01-04-01-02-02-03.wav'),\n",
       " PosixPath('RavdessAudioOnly/03-01-04-01-02-02-04.wav'),\n",
       " PosixPath('RavdessAudioOnly/03-01-04-01-02-02-05.wav'),\n",
       " PosixPath('RavdessAudioOnly/03-01-04-01-02-02-06.wav'),\n",
       " PosixPath('RavdessAudioOnly/03-01-04-01-02-02-07.wav'),\n",
       " PosixPath('RavdessAudioOnly/03-01-04-01-02-02-08.wav'),\n",
       " PosixPath('RavdessAudioOnly/03-01-04-01-02-02-09.wav'),\n",
       " PosixPath('RavdessAudioOnly/03-01-04-01-02-02-10.wav'),\n",
       " PosixPath('RavdessAudioOnly/03-01-04-01-02-02-11.wav'),\n",
       " PosixPath('RavdessAudioOnly/03-01-04-01-02-02-12.wav'),\n",
       " PosixPath('RavdessAudioOnly/03-01-04-01-02-02-13.wav'),\n",
       " PosixPath('RavdessAudioOnly/03-01-04-01-02-02-14.wav'),\n",
       " PosixPath('RavdessAudioOnly/03-01-04-01-02-02-15.wav'),\n",
       " PosixPath('RavdessAudioOnly/03-01-04-01-02-02-16.wav'),\n",
       " PosixPath('RavdessAudioOnly/03-01-04-01-02-02-17.wav'),\n",
       " PosixPath('RavdessAudioOnly/03-01-04-01-02-02-18.wav'),\n",
       " PosixPath('RavdessAudioOnly/03-01-04-01-02-02-19.wav'),\n",
       " PosixPath('RavdessAudioOnly/03-01-04-01-02-02-20.wav'),\n",
       " PosixPath('RavdessAudioOnly/03-01-04-01-02-02-21.wav'),\n",
       " PosixPath('RavdessAudioOnly/03-01-04-01-02-02-22.wav'),\n",
       " PosixPath('RavdessAudioOnly/03-01-04-01-02-02-23.wav'),\n",
       " PosixPath('RavdessAudioOnly/03-01-04-01-02-02-24.wav'),\n",
       " PosixPath('RavdessAudioOnly/03-01-04-02-01-01-01.wav'),\n",
       " PosixPath('RavdessAudioOnly/03-01-04-02-01-01-02.wav'),\n",
       " PosixPath('RavdessAudioOnly/03-01-04-02-01-01-03.wav'),\n",
       " PosixPath('RavdessAudioOnly/03-01-04-02-01-01-04.wav'),\n",
       " PosixPath('RavdessAudioOnly/03-01-04-02-01-01-05.wav'),\n",
       " PosixPath('RavdessAudioOnly/03-01-04-02-01-01-06.wav'),\n",
       " PosixPath('RavdessAudioOnly/03-01-04-02-01-01-07.wav'),\n",
       " PosixPath('RavdessAudioOnly/03-01-04-02-01-01-08.wav'),\n",
       " PosixPath('RavdessAudioOnly/03-01-04-02-01-01-09.wav'),\n",
       " PosixPath('RavdessAudioOnly/03-01-04-02-01-01-10.wav'),\n",
       " PosixPath('RavdessAudioOnly/03-01-04-02-01-01-11.wav'),\n",
       " PosixPath('RavdessAudioOnly/03-01-04-02-01-01-12.wav'),\n",
       " PosixPath('RavdessAudioOnly/03-01-04-02-01-01-13.wav'),\n",
       " PosixPath('RavdessAudioOnly/03-01-04-02-01-01-14.wav'),\n",
       " PosixPath('RavdessAudioOnly/03-01-04-02-01-01-15.wav'),\n",
       " PosixPath('RavdessAudioOnly/03-01-04-02-01-01-16.wav'),\n",
       " PosixPath('RavdessAudioOnly/03-01-04-02-01-01-17.wav'),\n",
       " PosixPath('RavdessAudioOnly/03-01-04-02-01-01-18.wav'),\n",
       " PosixPath('RavdessAudioOnly/03-01-04-02-01-01-19.wav'),\n",
       " PosixPath('RavdessAudioOnly/03-01-04-02-01-01-20.wav'),\n",
       " PosixPath('RavdessAudioOnly/03-01-04-02-01-01-21.wav'),\n",
       " PosixPath('RavdessAudioOnly/03-01-04-02-01-01-22.wav'),\n",
       " PosixPath('RavdessAudioOnly/03-01-04-02-01-01-23.wav'),\n",
       " PosixPath('RavdessAudioOnly/03-01-04-02-01-01-24.wav'),\n",
       " PosixPath('RavdessAudioOnly/03-01-04-02-01-02-01.wav'),\n",
       " PosixPath('RavdessAudioOnly/03-01-04-02-01-02-02.wav'),\n",
       " PosixPath('RavdessAudioOnly/03-01-04-02-01-02-03.wav'),\n",
       " PosixPath('RavdessAudioOnly/03-01-04-02-01-02-04.wav'),\n",
       " PosixPath('RavdessAudioOnly/03-01-04-02-01-02-05.wav'),\n",
       " PosixPath('RavdessAudioOnly/03-01-04-02-01-02-06.wav'),\n",
       " PosixPath('RavdessAudioOnly/03-01-04-02-01-02-07.wav'),\n",
       " PosixPath('RavdessAudioOnly/03-01-04-02-01-02-08.wav'),\n",
       " PosixPath('RavdessAudioOnly/03-01-04-02-01-02-09.wav'),\n",
       " PosixPath('RavdessAudioOnly/03-01-04-02-01-02-10.wav'),\n",
       " PosixPath('RavdessAudioOnly/03-01-04-02-01-02-11.wav'),\n",
       " PosixPath('RavdessAudioOnly/03-01-04-02-01-02-12.wav'),\n",
       " PosixPath('RavdessAudioOnly/03-01-04-02-01-02-13.wav'),\n",
       " PosixPath('RavdessAudioOnly/03-01-04-02-01-02-14.wav'),\n",
       " PosixPath('RavdessAudioOnly/03-01-04-02-01-02-15.wav'),\n",
       " PosixPath('RavdessAudioOnly/03-01-04-02-01-02-16.wav'),\n",
       " PosixPath('RavdessAudioOnly/03-01-04-02-01-02-17.wav'),\n",
       " PosixPath('RavdessAudioOnly/03-01-04-02-01-02-18.wav'),\n",
       " PosixPath('RavdessAudioOnly/03-01-04-02-01-02-19.wav'),\n",
       " PosixPath('RavdessAudioOnly/03-01-04-02-01-02-20.wav'),\n",
       " PosixPath('RavdessAudioOnly/03-01-04-02-01-02-21.wav'),\n",
       " PosixPath('RavdessAudioOnly/03-01-04-02-01-02-22.wav'),\n",
       " PosixPath('RavdessAudioOnly/03-01-04-02-01-02-23.wav'),\n",
       " PosixPath('RavdessAudioOnly/03-01-04-02-01-02-24.wav'),\n",
       " PosixPath('RavdessAudioOnly/03-01-04-02-02-01-01.wav'),\n",
       " PosixPath('RavdessAudioOnly/03-01-04-02-02-01-02.wav'),\n",
       " PosixPath('RavdessAudioOnly/03-01-04-02-02-01-03.wav'),\n",
       " PosixPath('RavdessAudioOnly/03-01-04-02-02-01-04.wav'),\n",
       " PosixPath('RavdessAudioOnly/03-01-04-02-02-01-05.wav'),\n",
       " PosixPath('RavdessAudioOnly/03-01-04-02-02-01-06.wav'),\n",
       " PosixPath('RavdessAudioOnly/03-01-04-02-02-01-07.wav'),\n",
       " PosixPath('RavdessAudioOnly/03-01-04-02-02-01-08.wav'),\n",
       " PosixPath('RavdessAudioOnly/03-01-04-02-02-01-09.wav'),\n",
       " PosixPath('RavdessAudioOnly/03-01-04-02-02-01-10.wav'),\n",
       " PosixPath('RavdessAudioOnly/03-01-04-02-02-01-11.wav'),\n",
       " PosixPath('RavdessAudioOnly/03-01-04-02-02-01-12.wav'),\n",
       " PosixPath('RavdessAudioOnly/03-01-04-02-02-01-13.wav'),\n",
       " PosixPath('RavdessAudioOnly/03-01-04-02-02-01-14.wav'),\n",
       " PosixPath('RavdessAudioOnly/03-01-04-02-02-01-15.wav'),\n",
       " PosixPath('RavdessAudioOnly/03-01-04-02-02-01-16.wav'),\n",
       " PosixPath('RavdessAudioOnly/03-01-04-02-02-01-17.wav'),\n",
       " PosixPath('RavdessAudioOnly/03-01-04-02-02-01-18.wav'),\n",
       " PosixPath('RavdessAudioOnly/03-01-04-02-02-01-19.wav'),\n",
       " PosixPath('RavdessAudioOnly/03-01-04-02-02-01-20.wav'),\n",
       " PosixPath('RavdessAudioOnly/03-01-04-02-02-01-21.wav'),\n",
       " PosixPath('RavdessAudioOnly/03-01-04-02-02-01-22.wav'),\n",
       " PosixPath('RavdessAudioOnly/03-01-04-02-02-01-23.wav'),\n",
       " PosixPath('RavdessAudioOnly/03-01-04-02-02-01-24.wav'),\n",
       " PosixPath('RavdessAudioOnly/03-01-04-02-02-02-01.wav'),\n",
       " PosixPath('RavdessAudioOnly/03-01-04-02-02-02-02.wav'),\n",
       " PosixPath('RavdessAudioOnly/03-01-04-02-02-02-03.wav'),\n",
       " PosixPath('RavdessAudioOnly/03-01-04-02-02-02-04.wav'),\n",
       " PosixPath('RavdessAudioOnly/03-01-04-02-02-02-05.wav'),\n",
       " PosixPath('RavdessAudioOnly/03-01-04-02-02-02-06.wav'),\n",
       " PosixPath('RavdessAudioOnly/03-01-04-02-02-02-07.wav'),\n",
       " PosixPath('RavdessAudioOnly/03-01-04-02-02-02-08.wav'),\n",
       " PosixPath('RavdessAudioOnly/03-01-04-02-02-02-09.wav'),\n",
       " PosixPath('RavdessAudioOnly/03-01-04-02-02-02-10.wav'),\n",
       " PosixPath('RavdessAudioOnly/03-01-04-02-02-02-11.wav'),\n",
       " PosixPath('RavdessAudioOnly/03-01-04-02-02-02-12.wav'),\n",
       " PosixPath('RavdessAudioOnly/03-01-04-02-02-02-13.wav'),\n",
       " PosixPath('RavdessAudioOnly/03-01-04-02-02-02-14.wav'),\n",
       " PosixPath('RavdessAudioOnly/03-01-04-02-02-02-15.wav'),\n",
       " PosixPath('RavdessAudioOnly/03-01-04-02-02-02-16.wav'),\n",
       " PosixPath('RavdessAudioOnly/03-01-04-02-02-02-17.wav'),\n",
       " PosixPath('RavdessAudioOnly/03-01-04-02-02-02-18.wav'),\n",
       " PosixPath('RavdessAudioOnly/03-01-04-02-02-02-19.wav'),\n",
       " PosixPath('RavdessAudioOnly/03-01-04-02-02-02-20.wav'),\n",
       " PosixPath('RavdessAudioOnly/03-01-04-02-02-02-21.wav'),\n",
       " PosixPath('RavdessAudioOnly/03-01-04-02-02-02-22.wav'),\n",
       " PosixPath('RavdessAudioOnly/03-01-04-02-02-02-23.wav'),\n",
       " PosixPath('RavdessAudioOnly/03-01-04-02-02-02-24.wav'),\n",
       " PosixPath('RavdessAudioOnly/03-01-05-01-01-01-01.wav'),\n",
       " PosixPath('RavdessAudioOnly/03-01-05-01-01-01-02.wav'),\n",
       " PosixPath('RavdessAudioOnly/03-01-05-01-01-01-03.wav'),\n",
       " PosixPath('RavdessAudioOnly/03-01-05-01-01-01-04.wav'),\n",
       " PosixPath('RavdessAudioOnly/03-01-05-01-01-01-05.wav'),\n",
       " PosixPath('RavdessAudioOnly/03-01-05-01-01-01-06.wav'),\n",
       " PosixPath('RavdessAudioOnly/03-01-05-01-01-01-07.wav'),\n",
       " PosixPath('RavdessAudioOnly/03-01-05-01-01-01-08.wav'),\n",
       " PosixPath('RavdessAudioOnly/03-01-05-01-01-01-09.wav'),\n",
       " PosixPath('RavdessAudioOnly/03-01-05-01-01-01-10.wav'),\n",
       " PosixPath('RavdessAudioOnly/03-01-05-01-01-01-11.wav'),\n",
       " PosixPath('RavdessAudioOnly/03-01-05-01-01-01-12.wav'),\n",
       " PosixPath('RavdessAudioOnly/03-01-05-01-01-01-13.wav'),\n",
       " PosixPath('RavdessAudioOnly/03-01-05-01-01-01-14.wav'),\n",
       " PosixPath('RavdessAudioOnly/03-01-05-01-01-01-15.wav'),\n",
       " PosixPath('RavdessAudioOnly/03-01-05-01-01-01-16.wav'),\n",
       " PosixPath('RavdessAudioOnly/03-01-05-01-01-01-17.wav'),\n",
       " PosixPath('RavdessAudioOnly/03-01-05-01-01-01-18.wav'),\n",
       " PosixPath('RavdessAudioOnly/03-01-05-01-01-01-19.wav'),\n",
       " PosixPath('RavdessAudioOnly/03-01-05-01-01-01-20.wav'),\n",
       " PosixPath('RavdessAudioOnly/03-01-05-01-01-01-21.wav'),\n",
       " PosixPath('RavdessAudioOnly/03-01-05-01-01-01-22.wav'),\n",
       " PosixPath('RavdessAudioOnly/03-01-05-01-01-01-23.wav'),\n",
       " PosixPath('RavdessAudioOnly/03-01-05-01-01-01-24.wav'),\n",
       " PosixPath('RavdessAudioOnly/03-01-05-01-01-02-01.wav'),\n",
       " PosixPath('RavdessAudioOnly/03-01-05-01-01-02-02.wav'),\n",
       " PosixPath('RavdessAudioOnly/03-01-05-01-01-02-03.wav'),\n",
       " PosixPath('RavdessAudioOnly/03-01-05-01-01-02-04.wav'),\n",
       " PosixPath('RavdessAudioOnly/03-01-05-01-01-02-05.wav'),\n",
       " PosixPath('RavdessAudioOnly/03-01-05-01-01-02-06.wav'),\n",
       " PosixPath('RavdessAudioOnly/03-01-05-01-01-02-07.wav'),\n",
       " PosixPath('RavdessAudioOnly/03-01-05-01-01-02-08.wav'),\n",
       " PosixPath('RavdessAudioOnly/03-01-05-01-01-02-09.wav'),\n",
       " PosixPath('RavdessAudioOnly/03-01-05-01-01-02-10.wav'),\n",
       " PosixPath('RavdessAudioOnly/03-01-05-01-01-02-11.wav'),\n",
       " PosixPath('RavdessAudioOnly/03-01-05-01-01-02-12.wav'),\n",
       " PosixPath('RavdessAudioOnly/03-01-05-01-01-02-13.wav'),\n",
       " PosixPath('RavdessAudioOnly/03-01-05-01-01-02-14.wav'),\n",
       " PosixPath('RavdessAudioOnly/03-01-05-01-01-02-15.wav'),\n",
       " PosixPath('RavdessAudioOnly/03-01-05-01-01-02-16.wav'),\n",
       " PosixPath('RavdessAudioOnly/03-01-05-01-01-02-17.wav'),\n",
       " PosixPath('RavdessAudioOnly/03-01-05-01-01-02-18.wav'),\n",
       " PosixPath('RavdessAudioOnly/03-01-05-01-01-02-19.wav'),\n",
       " PosixPath('RavdessAudioOnly/03-01-05-01-01-02-20.wav'),\n",
       " PosixPath('RavdessAudioOnly/03-01-05-01-01-02-21.wav'),\n",
       " PosixPath('RavdessAudioOnly/03-01-05-01-01-02-22.wav'),\n",
       " PosixPath('RavdessAudioOnly/03-01-05-01-01-02-23.wav'),\n",
       " PosixPath('RavdessAudioOnly/03-01-05-01-01-02-24.wav'),\n",
       " PosixPath('RavdessAudioOnly/03-01-05-01-02-01-01.wav'),\n",
       " PosixPath('RavdessAudioOnly/03-01-05-01-02-01-02.wav'),\n",
       " PosixPath('RavdessAudioOnly/03-01-05-01-02-01-03.wav'),\n",
       " PosixPath('RavdessAudioOnly/03-01-05-01-02-01-04.wav'),\n",
       " PosixPath('RavdessAudioOnly/03-01-05-01-02-01-05.wav'),\n",
       " PosixPath('RavdessAudioOnly/03-01-05-01-02-01-06.wav'),\n",
       " PosixPath('RavdessAudioOnly/03-01-05-01-02-01-07.wav'),\n",
       " PosixPath('RavdessAudioOnly/03-01-05-01-02-01-08.wav'),\n",
       " PosixPath('RavdessAudioOnly/03-01-05-01-02-01-09.wav'),\n",
       " PosixPath('RavdessAudioOnly/03-01-05-01-02-01-10.wav'),\n",
       " PosixPath('RavdessAudioOnly/03-01-05-01-02-01-11.wav'),\n",
       " PosixPath('RavdessAudioOnly/03-01-05-01-02-01-12.wav'),\n",
       " PosixPath('RavdessAudioOnly/03-01-05-01-02-01-13.wav'),\n",
       " PosixPath('RavdessAudioOnly/03-01-05-01-02-01-14.wav'),\n",
       " PosixPath('RavdessAudioOnly/03-01-05-01-02-01-15.wav'),\n",
       " PosixPath('RavdessAudioOnly/03-01-05-01-02-01-16.wav'),\n",
       " PosixPath('RavdessAudioOnly/03-01-05-01-02-01-17.wav'),\n",
       " PosixPath('RavdessAudioOnly/03-01-05-01-02-01-18.wav'),\n",
       " PosixPath('RavdessAudioOnly/03-01-05-01-02-01-19.wav'),\n",
       " PosixPath('RavdessAudioOnly/03-01-05-01-02-01-20.wav'),\n",
       " PosixPath('RavdessAudioOnly/03-01-05-01-02-01-21.wav'),\n",
       " PosixPath('RavdessAudioOnly/03-01-05-01-02-01-22.wav'),\n",
       " PosixPath('RavdessAudioOnly/03-01-05-01-02-01-23.wav'),\n",
       " PosixPath('RavdessAudioOnly/03-01-05-01-02-01-24.wav'),\n",
       " PosixPath('RavdessAudioOnly/03-01-05-01-02-02-01.wav'),\n",
       " PosixPath('RavdessAudioOnly/03-01-05-01-02-02-02.wav'),\n",
       " PosixPath('RavdessAudioOnly/03-01-05-01-02-02-03.wav'),\n",
       " PosixPath('RavdessAudioOnly/03-01-05-01-02-02-04.wav'),\n",
       " PosixPath('RavdessAudioOnly/03-01-05-01-02-02-05.wav'),\n",
       " PosixPath('RavdessAudioOnly/03-01-05-01-02-02-06.wav'),\n",
       " PosixPath('RavdessAudioOnly/03-01-05-01-02-02-07.wav'),\n",
       " PosixPath('RavdessAudioOnly/03-01-05-01-02-02-08.wav'),\n",
       " PosixPath('RavdessAudioOnly/03-01-05-01-02-02-09.wav'),\n",
       " PosixPath('RavdessAudioOnly/03-01-05-01-02-02-10.wav'),\n",
       " PosixPath('RavdessAudioOnly/03-01-05-01-02-02-11.wav'),\n",
       " PosixPath('RavdessAudioOnly/03-01-05-01-02-02-12.wav'),\n",
       " PosixPath('RavdessAudioOnly/03-01-05-01-02-02-13.wav'),\n",
       " PosixPath('RavdessAudioOnly/03-01-05-01-02-02-14.wav'),\n",
       " PosixPath('RavdessAudioOnly/03-01-05-01-02-02-15.wav'),\n",
       " PosixPath('RavdessAudioOnly/03-01-05-01-02-02-16.wav'),\n",
       " PosixPath('RavdessAudioOnly/03-01-05-01-02-02-17.wav'),\n",
       " PosixPath('RavdessAudioOnly/03-01-05-01-02-02-18.wav'),\n",
       " PosixPath('RavdessAudioOnly/03-01-05-01-02-02-19.wav'),\n",
       " PosixPath('RavdessAudioOnly/03-01-05-01-02-02-20.wav'),\n",
       " PosixPath('RavdessAudioOnly/03-01-05-01-02-02-21.wav'),\n",
       " PosixPath('RavdessAudioOnly/03-01-05-01-02-02-22.wav'),\n",
       " PosixPath('RavdessAudioOnly/03-01-05-01-02-02-23.wav'),\n",
       " PosixPath('RavdessAudioOnly/03-01-05-01-02-02-24.wav'),\n",
       " PosixPath('RavdessAudioOnly/03-01-05-02-01-01-01.wav'),\n",
       " PosixPath('RavdessAudioOnly/03-01-05-02-01-01-02.wav'),\n",
       " PosixPath('RavdessAudioOnly/03-01-05-02-01-01-03.wav'),\n",
       " PosixPath('RavdessAudioOnly/03-01-05-02-01-01-04.wav'),\n",
       " PosixPath('RavdessAudioOnly/03-01-05-02-01-01-05.wav'),\n",
       " PosixPath('RavdessAudioOnly/03-01-05-02-01-01-06.wav'),\n",
       " PosixPath('RavdessAudioOnly/03-01-05-02-01-01-07.wav'),\n",
       " PosixPath('RavdessAudioOnly/03-01-05-02-01-01-08.wav'),\n",
       " PosixPath('RavdessAudioOnly/03-01-05-02-01-01-09.wav'),\n",
       " PosixPath('RavdessAudioOnly/03-01-05-02-01-01-10.wav'),\n",
       " PosixPath('RavdessAudioOnly/03-01-05-02-01-01-11.wav'),\n",
       " PosixPath('RavdessAudioOnly/03-01-05-02-01-01-12.wav'),\n",
       " PosixPath('RavdessAudioOnly/03-01-05-02-01-01-13.wav'),\n",
       " PosixPath('RavdessAudioOnly/03-01-05-02-01-01-14.wav'),\n",
       " PosixPath('RavdessAudioOnly/03-01-05-02-01-01-15.wav'),\n",
       " PosixPath('RavdessAudioOnly/03-01-05-02-01-01-16.wav'),\n",
       " PosixPath('RavdessAudioOnly/03-01-05-02-01-01-17.wav'),\n",
       " PosixPath('RavdessAudioOnly/03-01-05-02-01-01-18.wav'),\n",
       " PosixPath('RavdessAudioOnly/03-01-05-02-01-01-19.wav'),\n",
       " PosixPath('RavdessAudioOnly/03-01-05-02-01-01-20.wav'),\n",
       " PosixPath('RavdessAudioOnly/03-01-05-02-01-01-21.wav'),\n",
       " PosixPath('RavdessAudioOnly/03-01-05-02-01-01-22.wav'),\n",
       " PosixPath('RavdessAudioOnly/03-01-05-02-01-01-23.wav'),\n",
       " PosixPath('RavdessAudioOnly/03-01-05-02-01-01-24.wav'),\n",
       " PosixPath('RavdessAudioOnly/03-01-05-02-01-02-01.wav'),\n",
       " PosixPath('RavdessAudioOnly/03-01-05-02-01-02-02.wav'),\n",
       " PosixPath('RavdessAudioOnly/03-01-05-02-01-02-03.wav'),\n",
       " PosixPath('RavdessAudioOnly/03-01-05-02-01-02-04.wav'),\n",
       " PosixPath('RavdessAudioOnly/03-01-05-02-01-02-05.wav'),\n",
       " PosixPath('RavdessAudioOnly/03-01-05-02-01-02-06.wav'),\n",
       " PosixPath('RavdessAudioOnly/03-01-05-02-01-02-07.wav'),\n",
       " PosixPath('RavdessAudioOnly/03-01-05-02-01-02-08.wav'),\n",
       " PosixPath('RavdessAudioOnly/03-01-05-02-01-02-09.wav'),\n",
       " PosixPath('RavdessAudioOnly/03-01-05-02-01-02-10.wav'),\n",
       " PosixPath('RavdessAudioOnly/03-01-05-02-01-02-11.wav'),\n",
       " PosixPath('RavdessAudioOnly/03-01-05-02-01-02-12.wav'),\n",
       " PosixPath('RavdessAudioOnly/03-01-05-02-01-02-13.wav'),\n",
       " PosixPath('RavdessAudioOnly/03-01-05-02-01-02-14.wav'),\n",
       " PosixPath('RavdessAudioOnly/03-01-05-02-01-02-15.wav'),\n",
       " PosixPath('RavdessAudioOnly/03-01-05-02-01-02-16.wav'),\n",
       " PosixPath('RavdessAudioOnly/03-01-05-02-01-02-17.wav'),\n",
       " PosixPath('RavdessAudioOnly/03-01-05-02-01-02-18.wav'),\n",
       " PosixPath('RavdessAudioOnly/03-01-05-02-01-02-19.wav'),\n",
       " PosixPath('RavdessAudioOnly/03-01-05-02-01-02-20.wav'),\n",
       " PosixPath('RavdessAudioOnly/03-01-05-02-01-02-21.wav'),\n",
       " PosixPath('RavdessAudioOnly/03-01-05-02-01-02-22.wav'),\n",
       " PosixPath('RavdessAudioOnly/03-01-05-02-01-02-23.wav'),\n",
       " PosixPath('RavdessAudioOnly/03-01-05-02-01-02-24.wav'),\n",
       " PosixPath('RavdessAudioOnly/03-01-05-02-02-01-01.wav'),\n",
       " PosixPath('RavdessAudioOnly/03-01-05-02-02-01-02.wav'),\n",
       " PosixPath('RavdessAudioOnly/03-01-05-02-02-01-03.wav'),\n",
       " PosixPath('RavdessAudioOnly/03-01-05-02-02-01-04.wav'),\n",
       " PosixPath('RavdessAudioOnly/03-01-05-02-02-01-05.wav'),\n",
       " PosixPath('RavdessAudioOnly/03-01-05-02-02-01-06.wav'),\n",
       " PosixPath('RavdessAudioOnly/03-01-05-02-02-01-07.wav'),\n",
       " PosixPath('RavdessAudioOnly/03-01-05-02-02-01-08.wav'),\n",
       " PosixPath('RavdessAudioOnly/03-01-05-02-02-01-09.wav'),\n",
       " PosixPath('RavdessAudioOnly/03-01-05-02-02-01-10.wav'),\n",
       " PosixPath('RavdessAudioOnly/03-01-05-02-02-01-11.wav'),\n",
       " PosixPath('RavdessAudioOnly/03-01-05-02-02-01-12.wav'),\n",
       " PosixPath('RavdessAudioOnly/03-01-05-02-02-01-13.wav'),\n",
       " PosixPath('RavdessAudioOnly/03-01-05-02-02-01-14.wav'),\n",
       " PosixPath('RavdessAudioOnly/03-01-05-02-02-01-15.wav'),\n",
       " PosixPath('RavdessAudioOnly/03-01-05-02-02-01-16.wav'),\n",
       " PosixPath('RavdessAudioOnly/03-01-05-02-02-01-17.wav'),\n",
       " PosixPath('RavdessAudioOnly/03-01-05-02-02-01-18.wav'),\n",
       " PosixPath('RavdessAudioOnly/03-01-05-02-02-01-19.wav'),\n",
       " PosixPath('RavdessAudioOnly/03-01-05-02-02-01-20.wav'),\n",
       " PosixPath('RavdessAudioOnly/03-01-05-02-02-01-21.wav'),\n",
       " PosixPath('RavdessAudioOnly/03-01-05-02-02-01-22.wav'),\n",
       " PosixPath('RavdessAudioOnly/03-01-05-02-02-01-23.wav'),\n",
       " PosixPath('RavdessAudioOnly/03-01-05-02-02-01-24.wav'),\n",
       " PosixPath('RavdessAudioOnly/03-01-05-02-02-02-01.wav'),\n",
       " PosixPath('RavdessAudioOnly/03-01-05-02-02-02-02.wav'),\n",
       " PosixPath('RavdessAudioOnly/03-01-05-02-02-02-03.wav'),\n",
       " PosixPath('RavdessAudioOnly/03-01-05-02-02-02-04.wav'),\n",
       " PosixPath('RavdessAudioOnly/03-01-05-02-02-02-05.wav'),\n",
       " PosixPath('RavdessAudioOnly/03-01-05-02-02-02-06.wav'),\n",
       " PosixPath('RavdessAudioOnly/03-01-05-02-02-02-07.wav'),\n",
       " PosixPath('RavdessAudioOnly/03-01-05-02-02-02-08.wav'),\n",
       " PosixPath('RavdessAudioOnly/03-01-05-02-02-02-09.wav'),\n",
       " PosixPath('RavdessAudioOnly/03-01-05-02-02-02-10.wav'),\n",
       " PosixPath('RavdessAudioOnly/03-01-05-02-02-02-11.wav'),\n",
       " PosixPath('RavdessAudioOnly/03-01-05-02-02-02-12.wav'),\n",
       " PosixPath('RavdessAudioOnly/03-01-05-02-02-02-13.wav'),\n",
       " PosixPath('RavdessAudioOnly/03-01-05-02-02-02-14.wav'),\n",
       " PosixPath('RavdessAudioOnly/03-01-05-02-02-02-15.wav'),\n",
       " PosixPath('RavdessAudioOnly/03-01-05-02-02-02-16.wav'),\n",
       " PosixPath('RavdessAudioOnly/03-01-05-02-02-02-17.wav'),\n",
       " PosixPath('RavdessAudioOnly/03-01-05-02-02-02-18.wav'),\n",
       " PosixPath('RavdessAudioOnly/03-01-05-02-02-02-19.wav'),\n",
       " PosixPath('RavdessAudioOnly/03-01-05-02-02-02-20.wav'),\n",
       " PosixPath('RavdessAudioOnly/03-01-05-02-02-02-21.wav'),\n",
       " PosixPath('RavdessAudioOnly/03-01-05-02-02-02-22.wav'),\n",
       " PosixPath('RavdessAudioOnly/03-01-05-02-02-02-23.wav'),\n",
       " PosixPath('RavdessAudioOnly/03-01-05-02-02-02-24.wav'),\n",
       " PosixPath('RavdessAudioOnly/03-01-06-01-01-01-01.wav'),\n",
       " PosixPath('RavdessAudioOnly/03-01-06-01-01-01-02.wav'),\n",
       " PosixPath('RavdessAudioOnly/03-01-06-01-01-01-03.wav'),\n",
       " PosixPath('RavdessAudioOnly/03-01-06-01-01-01-04.wav'),\n",
       " PosixPath('RavdessAudioOnly/03-01-06-01-01-01-05.wav'),\n",
       " PosixPath('RavdessAudioOnly/03-01-06-01-01-01-06.wav'),\n",
       " PosixPath('RavdessAudioOnly/03-01-06-01-01-01-07.wav'),\n",
       " PosixPath('RavdessAudioOnly/03-01-06-01-01-01-08.wav'),\n",
       " PosixPath('RavdessAudioOnly/03-01-06-01-01-01-09.wav'),\n",
       " PosixPath('RavdessAudioOnly/03-01-06-01-01-01-10.wav'),\n",
       " PosixPath('RavdessAudioOnly/03-01-06-01-01-01-11.wav'),\n",
       " PosixPath('RavdessAudioOnly/03-01-06-01-01-01-12.wav'),\n",
       " PosixPath('RavdessAudioOnly/03-01-06-01-01-01-13.wav'),\n",
       " PosixPath('RavdessAudioOnly/03-01-06-01-01-01-14.wav'),\n",
       " PosixPath('RavdessAudioOnly/03-01-06-01-01-01-15.wav'),\n",
       " PosixPath('RavdessAudioOnly/03-01-06-01-01-01-16.wav'),\n",
       " PosixPath('RavdessAudioOnly/03-01-06-01-01-01-17.wav'),\n",
       " PosixPath('RavdessAudioOnly/03-01-06-01-01-01-18.wav'),\n",
       " PosixPath('RavdessAudioOnly/03-01-06-01-01-01-19.wav'),\n",
       " PosixPath('RavdessAudioOnly/03-01-06-01-01-01-20.wav'),\n",
       " PosixPath('RavdessAudioOnly/03-01-06-01-01-01-21.wav'),\n",
       " PosixPath('RavdessAudioOnly/03-01-06-01-01-01-22.wav'),\n",
       " PosixPath('RavdessAudioOnly/03-01-06-01-01-01-23.wav'),\n",
       " PosixPath('RavdessAudioOnly/03-01-06-01-01-01-24.wav'),\n",
       " PosixPath('RavdessAudioOnly/03-01-06-01-01-02-01.wav'),\n",
       " PosixPath('RavdessAudioOnly/03-01-06-01-01-02-02.wav'),\n",
       " PosixPath('RavdessAudioOnly/03-01-06-01-01-02-03.wav'),\n",
       " PosixPath('RavdessAudioOnly/03-01-06-01-01-02-04.wav'),\n",
       " PosixPath('RavdessAudioOnly/03-01-06-01-01-02-05.wav'),\n",
       " PosixPath('RavdessAudioOnly/03-01-06-01-01-02-06.wav'),\n",
       " PosixPath('RavdessAudioOnly/03-01-06-01-01-02-07.wav'),\n",
       " PosixPath('RavdessAudioOnly/03-01-06-01-01-02-08.wav'),\n",
       " PosixPath('RavdessAudioOnly/03-01-06-01-01-02-09.wav'),\n",
       " PosixPath('RavdessAudioOnly/03-01-06-01-01-02-10.wav'),\n",
       " PosixPath('RavdessAudioOnly/03-01-06-01-01-02-11.wav'),\n",
       " PosixPath('RavdessAudioOnly/03-01-06-01-01-02-12.wav'),\n",
       " PosixPath('RavdessAudioOnly/03-01-06-01-01-02-13.wav'),\n",
       " PosixPath('RavdessAudioOnly/03-01-06-01-01-02-14.wav'),\n",
       " PosixPath('RavdessAudioOnly/03-01-06-01-01-02-15.wav'),\n",
       " PosixPath('RavdessAudioOnly/03-01-06-01-01-02-16.wav'),\n",
       " PosixPath('RavdessAudioOnly/03-01-06-01-01-02-17.wav'),\n",
       " PosixPath('RavdessAudioOnly/03-01-06-01-01-02-18.wav'),\n",
       " PosixPath('RavdessAudioOnly/03-01-06-01-01-02-19.wav'),\n",
       " PosixPath('RavdessAudioOnly/03-01-06-01-01-02-20.wav'),\n",
       " PosixPath('RavdessAudioOnly/03-01-06-01-01-02-21.wav'),\n",
       " PosixPath('RavdessAudioOnly/03-01-06-01-01-02-22.wav'),\n",
       " PosixPath('RavdessAudioOnly/03-01-06-01-01-02-23.wav'),\n",
       " PosixPath('RavdessAudioOnly/03-01-06-01-01-02-24.wav'),\n",
       " PosixPath('RavdessAudioOnly/03-01-06-01-02-01-01.wav'),\n",
       " PosixPath('RavdessAudioOnly/03-01-06-01-02-01-02.wav'),\n",
       " PosixPath('RavdessAudioOnly/03-01-06-01-02-01-03.wav'),\n",
       " PosixPath('RavdessAudioOnly/03-01-06-01-02-01-04.wav'),\n",
       " PosixPath('RavdessAudioOnly/03-01-06-01-02-01-05.wav'),\n",
       " PosixPath('RavdessAudioOnly/03-01-06-01-02-01-06.wav'),\n",
       " PosixPath('RavdessAudioOnly/03-01-06-01-02-01-07.wav'),\n",
       " PosixPath('RavdessAudioOnly/03-01-06-01-02-01-08.wav'),\n",
       " PosixPath('RavdessAudioOnly/03-01-06-01-02-01-09.wav'),\n",
       " PosixPath('RavdessAudioOnly/03-01-06-01-02-01-10.wav'),\n",
       " PosixPath('RavdessAudioOnly/03-01-06-01-02-01-11.wav'),\n",
       " PosixPath('RavdessAudioOnly/03-01-06-01-02-01-12.wav'),\n",
       " PosixPath('RavdessAudioOnly/03-01-06-01-02-01-13.wav'),\n",
       " PosixPath('RavdessAudioOnly/03-01-06-01-02-01-14.wav'),\n",
       " PosixPath('RavdessAudioOnly/03-01-06-01-02-01-15.wav'),\n",
       " PosixPath('RavdessAudioOnly/03-01-06-01-02-01-16.wav'),\n",
       " PosixPath('RavdessAudioOnly/03-01-06-01-02-01-17.wav'),\n",
       " PosixPath('RavdessAudioOnly/03-01-06-01-02-01-18.wav'),\n",
       " PosixPath('RavdessAudioOnly/03-01-06-01-02-01-19.wav'),\n",
       " PosixPath('RavdessAudioOnly/03-01-06-01-02-01-20.wav'),\n",
       " PosixPath('RavdessAudioOnly/03-01-06-01-02-01-21.wav'),\n",
       " PosixPath('RavdessAudioOnly/03-01-06-01-02-01-22.wav'),\n",
       " PosixPath('RavdessAudioOnly/03-01-06-01-02-01-23.wav'),\n",
       " PosixPath('RavdessAudioOnly/03-01-06-01-02-01-24.wav'),\n",
       " PosixPath('RavdessAudioOnly/03-01-06-01-02-02-01.wav'),\n",
       " PosixPath('RavdessAudioOnly/03-01-06-01-02-02-02.wav'),\n",
       " PosixPath('RavdessAudioOnly/03-01-06-01-02-02-03.wav'),\n",
       " PosixPath('RavdessAudioOnly/03-01-06-01-02-02-04.wav'),\n",
       " PosixPath('RavdessAudioOnly/03-01-06-01-02-02-05.wav'),\n",
       " PosixPath('RavdessAudioOnly/03-01-06-01-02-02-06.wav'),\n",
       " PosixPath('RavdessAudioOnly/03-01-06-01-02-02-07.wav'),\n",
       " PosixPath('RavdessAudioOnly/03-01-06-01-02-02-08.wav'),\n",
       " PosixPath('RavdessAudioOnly/03-01-06-01-02-02-09.wav'),\n",
       " PosixPath('RavdessAudioOnly/03-01-06-01-02-02-10.wav'),\n",
       " PosixPath('RavdessAudioOnly/03-01-06-01-02-02-11.wav'),\n",
       " PosixPath('RavdessAudioOnly/03-01-06-01-02-02-12.wav'),\n",
       " PosixPath('RavdessAudioOnly/03-01-06-01-02-02-13.wav'),\n",
       " PosixPath('RavdessAudioOnly/03-01-06-01-02-02-14.wav'),\n",
       " PosixPath('RavdessAudioOnly/03-01-06-01-02-02-15.wav'),\n",
       " PosixPath('RavdessAudioOnly/03-01-06-01-02-02-16.wav'),\n",
       " PosixPath('RavdessAudioOnly/03-01-06-01-02-02-17.wav'),\n",
       " PosixPath('RavdessAudioOnly/03-01-06-01-02-02-18.wav'),\n",
       " PosixPath('RavdessAudioOnly/03-01-06-01-02-02-19.wav'),\n",
       " PosixPath('RavdessAudioOnly/03-01-06-01-02-02-20.wav'),\n",
       " PosixPath('RavdessAudioOnly/03-01-06-01-02-02-21.wav'),\n",
       " PosixPath('RavdessAudioOnly/03-01-06-01-02-02-22.wav'),\n",
       " PosixPath('RavdessAudioOnly/03-01-06-01-02-02-23.wav'),\n",
       " PosixPath('RavdessAudioOnly/03-01-06-01-02-02-24.wav'),\n",
       " PosixPath('RavdessAudioOnly/03-01-06-02-01-01-01.wav'),\n",
       " PosixPath('RavdessAudioOnly/03-01-06-02-01-01-02.wav'),\n",
       " PosixPath('RavdessAudioOnly/03-01-06-02-01-01-03.wav'),\n",
       " PosixPath('RavdessAudioOnly/03-01-06-02-01-01-04.wav'),\n",
       " PosixPath('RavdessAudioOnly/03-01-06-02-01-01-05.wav'),\n",
       " PosixPath('RavdessAudioOnly/03-01-06-02-01-01-06.wav'),\n",
       " PosixPath('RavdessAudioOnly/03-01-06-02-01-01-07.wav'),\n",
       " PosixPath('RavdessAudioOnly/03-01-06-02-01-01-08.wav'),\n",
       " PosixPath('RavdessAudioOnly/03-01-06-02-01-01-09.wav'),\n",
       " PosixPath('RavdessAudioOnly/03-01-06-02-01-01-10.wav'),\n",
       " PosixPath('RavdessAudioOnly/03-01-06-02-01-01-11.wav'),\n",
       " PosixPath('RavdessAudioOnly/03-01-06-02-01-01-12.wav'),\n",
       " PosixPath('RavdessAudioOnly/03-01-06-02-01-01-13.wav'),\n",
       " PosixPath('RavdessAudioOnly/03-01-06-02-01-01-14.wav'),\n",
       " PosixPath('RavdessAudioOnly/03-01-06-02-01-01-15.wav'),\n",
       " PosixPath('RavdessAudioOnly/03-01-06-02-01-01-16.wav'),\n",
       " PosixPath('RavdessAudioOnly/03-01-06-02-01-01-17.wav'),\n",
       " PosixPath('RavdessAudioOnly/03-01-06-02-01-01-18.wav'),\n",
       " PosixPath('RavdessAudioOnly/03-01-06-02-01-01-19.wav'),\n",
       " PosixPath('RavdessAudioOnly/03-01-06-02-01-01-20.wav'),\n",
       " PosixPath('RavdessAudioOnly/03-01-06-02-01-01-21.wav'),\n",
       " PosixPath('RavdessAudioOnly/03-01-06-02-01-01-22.wav'),\n",
       " PosixPath('RavdessAudioOnly/03-01-06-02-01-01-23.wav'),\n",
       " PosixPath('RavdessAudioOnly/03-01-06-02-01-01-24.wav'),\n",
       " PosixPath('RavdessAudioOnly/03-01-06-02-01-02-01.wav'),\n",
       " PosixPath('RavdessAudioOnly/03-01-06-02-01-02-02.wav'),\n",
       " PosixPath('RavdessAudioOnly/03-01-06-02-01-02-03.wav'),\n",
       " PosixPath('RavdessAudioOnly/03-01-06-02-01-02-04.wav'),\n",
       " PosixPath('RavdessAudioOnly/03-01-06-02-01-02-05.wav'),\n",
       " PosixPath('RavdessAudioOnly/03-01-06-02-01-02-06.wav'),\n",
       " PosixPath('RavdessAudioOnly/03-01-06-02-01-02-07.wav'),\n",
       " PosixPath('RavdessAudioOnly/03-01-06-02-01-02-08.wav'),\n",
       " PosixPath('RavdessAudioOnly/03-01-06-02-01-02-09.wav'),\n",
       " PosixPath('RavdessAudioOnly/03-01-06-02-01-02-10.wav'),\n",
       " PosixPath('RavdessAudioOnly/03-01-06-02-01-02-11.wav'),\n",
       " PosixPath('RavdessAudioOnly/03-01-06-02-01-02-12.wav'),\n",
       " PosixPath('RavdessAudioOnly/03-01-06-02-01-02-13.wav'),\n",
       " PosixPath('RavdessAudioOnly/03-01-06-02-01-02-14.wav'),\n",
       " PosixPath('RavdessAudioOnly/03-01-06-02-01-02-15.wav'),\n",
       " PosixPath('RavdessAudioOnly/03-01-06-02-01-02-16.wav'),\n",
       " ...]"
      ]
     },
     "execution_count": 37,
     "metadata": {},
     "output_type": "execute_result"
    }
   ],
   "source": [
    "file_list = list(dataset_folder.iterdir())\n",
    "for i, path in enumerate(file_list):\n",
    "    if path.suffix != \".wav\":\n",
    "        file_list.pop(i)\n",
    "file_list = sorted(file_list)\n",
    "file_list"
   ]
  },
  {
   "cell_type": "code",
   "execution_count": null,
   "metadata": {},
   "outputs": [],
   "source": [
    "array = list()\n",
    "for path in file_list:\n",
    "    librosa_audio_segment, sr = librosa.load(path, sr=None)\n",
    "    array.append([librosa_audio_segment])"
   ]
  },
  {
   "cell_type": "code",
   "execution_count": null,
   "metadata": {},
   "outputs": [],
   "source": [
    "b = ak.ArrayBuilder()\n",
    "for path in file_list:\n",
    "    librosa_audio_segment, sr = librosa.load(path, sr=None)\n",
    "    b.begin_list()\n",
    "    b.begin_list()\n",
    "    for value in librosa_audio_segment:\n",
    "        b.real(value)\n",
    "    b.end_list() \n",
    "    b.end_list() \n",
    "array = b.snapshot()"
   ]
  },
  {
   "cell_type": "code",
   "execution_count": null,
   "metadata": {},
   "outputs": [],
   "source": [
    "CATEGORICAL_FEATURES_NAMES = {\n",
    "    \"modality\": {\"01\": \"full-AV\", \"02\": \"video-only\", \"03\": \"audio-only\"}, \n",
    "    \"vocal_channel\": {\"01\": \"speech\", \"02\": \"song\"},\n",
    "    \"emotion\": {\"01\" : \"neutral\", \"02\" : \"calm\", \"03\" : \"happy\", \"04\" : \"sad\", \"05\" : \"angry\", \"06\" : \"fearful\", \"07\" : \"disgust\", \"08\" : \"surprised\"},\n",
    "    \"emotional_intensity\": {\"01\" : \"normal\", \"02\" : \"strong\"},\n",
    "    \"statement\": {\"01\" : \"Kids are talking by the door\", \"02\" : \"Dogs are sitting by the door\"},\n",
    "    \"repetition\": {\"01\" : \"1st\", \"02\" : \"2nd\"},\n",
    "    \"actor\": {str(i).zfill(2): str(i).zfill(2) for i in range(1, 25)}\n",
    "}"
   ]
  },
  {
   "cell_type": "code",
   "execution_count": null,
   "metadata": {},
   "outputs": [],
   "source": [
    "df = list()\n",
    "file_names = list()\n",
    "for path in file_list:\n",
    "    stem = path.stem.split(\"-\")\n",
    "    file_names.append(path.name)\n",
    "    df.append(stem)\n",
    "df = pd.DataFrame(df)\n",
    "df.columns = list(CATEGORICAL_FEATURES_NAMES.keys())\n",
    "\n",
    "for column in df.columns:\n",
    "    df = df.replace(CATEGORICAL_FEATURES_NAMES)\n",
    "\n",
    "df[\"sex\"] = [\"F\" if i % 2 == 0 else \"M\" for i in df[\"actor\"].astype(int)]\n",
    "df[\"filename\"] = file_names"
   ]
  },
  {
   "cell_type": "code",
   "execution_count": null,
   "metadata": {},
   "outputs": [],
   "source": [
    "df.head()"
   ]
  },
  {
   "cell_type": "code",
   "execution_count": null,
   "metadata": {},
   "outputs": [],
   "source": [
    "df_sorted_actor = df.sort_values(by=[\"actor\", \"filename\"])\n",
    "idxs_sorted = list(df_sorted_actor.index)"
   ]
  },
  {
   "cell_type": "code",
   "execution_count": null,
   "metadata": {},
   "outputs": [],
   "source": [
    "idx_train = list(df_sorted_actor[df_sorted_actor.actor.astype(int) < 19].index)\n",
    "idx_test = list(df_sorted_actor[df_sorted_actor.actor.astype(int) >= 19].index)"
   ]
  },
  {
   "cell_type": "code",
   "execution_count": null,
   "metadata": {},
   "outputs": [],
   "source": [
    "X_train = array[idx_train]\n",
    "X_test = array[idx_test]\n",
    "Y_train = df_sorted_actor[df_sorted_actor.actor.astype(int) < 19]\n",
    "Y_test = df_sorted_actor[df_sorted_actor.actor.astype(int) >= 19]"
   ]
  },
  {
   "cell_type": "code",
   "execution_count": null,
   "metadata": {},
   "outputs": [],
   "source": [
    "def pad_X(X, m_max, nan_value=0):\n",
    "    return ak.fill_none(ak.pad_none(X, m_max, axis=2, clip=True), value=nan_value)\n",
    "#since they are audio files it maes sense that the nan value is zero, but we could put NaN and then deal with it later"
   ]
  },
  {
   "cell_type": "code",
   "execution_count": null,
   "metadata": {},
   "outputs": [],
   "source": [
    "# find the max length of X_train\n",
    "maximum = 0\n",
    "for ts in X_train:\n",
    "    length = len(np.asarray(np.ravel(ts)))\n",
    "    if length > maximum:\n",
    "        maximum = length\n",
    "maximum\n",
    "#in order to know to which length to put the audios, we look at the maximum length in the train, because as a principle we cannot use informations of the test to make decisions \n",
    "#on the whole dataset. So if there is a longer audio in the test it will be cut, but it's good like this"
   ]
  },
  {
   "cell_type": "code",
   "execution_count": null,
   "metadata": {},
   "outputs": [],
   "source": [
    "X_train = np.squeeze(np.array(pad_X(X_train, maximum, 0)))\n",
    "X_test = np.squeeze(np.array(pad_X(X_test, maximum, 0)))"
   ]
  },
  {
   "cell_type": "code",
   "execution_count": null,
   "metadata": {},
   "outputs": [],
   "source": [
    "np.save(\"RavdessAudioOnlyNumpy__X_train.npy\", X_train)\n",
    "np.save(\"RavdessAudioOnlyNumpy__X_test.npy\", X_test)"
   ]
  },
  {
   "cell_type": "code",
   "execution_count": null,
   "metadata": {},
   "outputs": [],
   "source": []
  },
  {
   "cell_type": "markdown",
   "metadata": {},
   "source": [
    "<h2>TS - prep</h2>"
   ]
  },
  {
   "cell_type": "code",
   "execution_count": null,
   "metadata": {},
   "outputs": [],
   "source": [
    "import numpy as np\n",
    "from tslearn.preprocessing import TimeSeriesScalerMeanVariance\n",
    "import matplotlib.pyplot as plt "
   ]
  },
  {
   "cell_type": "code",
   "execution_count": null,
   "metadata": {},
   "outputs": [],
   "source": [
    "from tslearn.preprocessing import TimeSeriesScalerMeanVariance\n",
    "import matplotlib.pyplot as plt "
   ]
  },
  {
   "cell_type": "code",
   "execution_count": null,
   "metadata": {},
   "outputs": [
    {
     "name": "stdout",
     "output_type": "stream",
     "text": [
      "Requirement already satisfied: numpy==1.20.3 in /Users/dilettaferri/opt/anaconda3/lib/python3.9/site-packages (1.20.3)\n",
      "Requirement already satisfied: numba in /Users/dilettaferri/opt/anaconda3/lib/python3.9/site-packages (0.55.1)\n",
      "Requirement already satisfied: llvmlite<0.39,>=0.38.0rc1 in /Users/dilettaferri/opt/anaconda3/lib/python3.9/site-packages (from numba) (0.38.0)\n",
      "Requirement already satisfied: setuptools in /Users/dilettaferri/opt/anaconda3/lib/python3.9/site-packages (from numba) (63.4.1)\n"
     ]
    }
   ],
   "source": [
    "!pip install numpy=={\"1.20.3\"} numba"
   ]
  },
  {
   "cell_type": "code",
   "execution_count": null,
   "metadata": {},
   "outputs": [],
   "source": [
    "import numpy as np"
   ]
  },
  {
   "cell_type": "code",
   "execution_count": null,
   "metadata": {},
   "outputs": [],
   "source": [
    "from tslearn.piecewise import PiecewiseAggregateApproximation\n",
    "from tslearn.piecewise import SymbolicAggregateApproximation\n",
    "from tslearn.piecewise import OneD_SymbolicAggregateApproximation"
   ]
  },
  {
   "cell_type": "code",
   "execution_count": 45,
   "metadata": {},
   "outputs": [],
   "source": [
    "X_train=np.load('RavdessAudioOnlyNumpy__X_train.npy')\n",
    "X_test=np.load('RavdessAudioOnlyNumpy__X_test.npy')"
   ]
  },
  {
   "cell_type": "code",
   "execution_count": null,
   "metadata": {},
   "outputs": [
    {
     "data": {
      "text/plain": [
       "(1828, 92672)"
      ]
     },
     "execution_count": 6,
     "metadata": {},
     "output_type": "execute_result"
    }
   ],
   "source": [
    "X_train.shape "
   ]
  },
  {
   "cell_type": "code",
   "execution_count": null,
   "metadata": {},
   "outputs": [
    {
     "data": {
      "text/plain": [
       "(624, 92672)"
      ]
     },
     "execution_count": 7,
     "metadata": {},
     "output_type": "execute_result"
    }
   ],
   "source": [
    "X_test.shape "
   ]
  },
  {
   "cell_type": "markdown",
   "metadata": {},
   "source": [
    "<h4>TS Approximation</h4>"
   ]
  },
  {
   "cell_type": "markdown",
   "metadata": {},
   "source": [
    "We do approximation to represent a TS into a new smaller and simpler space and use this novel representation for computing, so that the task can be more effectively done on a reduced TS. It's a special form of dimensionality reduction specifically designed for TS. <br>\n",
    "We first do a moving avg smoothing, per ridurre il rumore e fare un primo smoothing della TS. <br>\n",
    "Scaliamo poi i dati per fare in modo che abbiano media intorno a 0 e varianza 1 <br>\n",
    "Poi facciamo le diverse approssimazioni per poter avere delle TS ridotte. "
   ]
  },
  {
   "cell_type": "code",
   "execution_count": null,
   "metadata": {},
   "outputs": [],
   "source": [
    "def moving_average_smoothing(series, window_size):\n",
    "    \"\"\"\n",
    "    Perform moving average smoothing on a single time series.\n",
    "    \n",
    "    series: Input time series as a 1-dimensional numpy array.\n",
    "    window_size: Size of the moving window as an integer.\n",
    "    \n",
    "    Returns the smoothed time series.\n",
    "    \"\"\"\n",
    "    window = np.ones(window_size) / window_size\n",
    "    smoothed_series = np.convolve(series, window, mode='same')\n",
    "    return smoothed_series"
   ]
  },
  {
   "cell_type": "code",
   "execution_count": null,
   "metadata": {},
   "outputs": [],
   "source": [
    "X_train_smoothed = np.empty_like(X_train)"
   ]
  },
  {
   "cell_type": "code",
   "execution_count": null,
   "metadata": {},
   "outputs": [
    {
     "data": {
      "text/plain": [
       "(1828, 92672)"
      ]
     },
     "execution_count": 17,
     "metadata": {},
     "output_type": "execute_result"
    }
   ],
   "source": [
    "X_train_smoothed.shape"
   ]
  },
  {
   "cell_type": "code",
   "execution_count": null,
   "metadata": {},
   "outputs": [],
   "source": [
    "for i,time_series in enumerate (X_train):\n",
    "    X_train_smoothed[i]= moving_average_smoothing(X_train[i], 10)"
   ]
  },
  {
   "cell_type": "code",
   "execution_count": null,
   "metadata": {},
   "outputs": [],
   "source": [
    "ts1=X_train[42]\n",
    "ts1s=X_train_smoothed[42]"
   ]
  },
  {
   "cell_type": "code",
   "execution_count": null,
   "metadata": {},
   "outputs": [
    {
     "data": {
      "image/png": "[encoded data removed]",
      "text/plain": [
       "<Figure size 640x480 with 1 Axes>"
      ]
     },
     "metadata": {},
     "output_type": "display_data"
    }
   ],
   "source": [
    "#plot con window=10\n",
    "plt.plot(ts1)\n",
    "plt.plot(ts1s)\n",
    "plt.show()"
   ]
  },
  {
   "cell_type": "code",
   "execution_count": 39,
   "metadata": {},
   "outputs": [],
   "source": [
    "X_test_smoothed = np.empty_like(X_test)"
   ]
  },
  {
   "cell_type": "code",
   "execution_count": 40,
   "metadata": {},
   "outputs": [],
   "source": [
    "for i,time_series in enumerate (X_test):\n",
    "    X_test_smoothed[i]= moving_average_smoothing(X_test[i], 10)"
   ]
  },
  {
   "cell_type": "code",
   "execution_count": 41,
   "metadata": {},
   "outputs": [],
   "source": [
    "#faccio lo scaling direttamente su quelle smoothed\n",
    "X_test_smoothed=TimeSeriesScalerMeanVariance().fit_transform(X_test_smoothed)\n",
    "X_train_smoothed=TimeSeriesScalerMeanVariance().fit_transform(X_train_smoothed)"
   ]
  },
  {
   "cell_type": "code",
   "execution_count": 53,
   "metadata": {},
   "outputs": [],
   "source": [
    "np.save(\"RavdessAudioOnlyNumpy__X_train_smoothed_scaled.npy\", X_train_smoothed)\n",
    "np.save(\"RavdessAudioOnlyNumpy__X_test_smoothed_scaled.npy\", X_test_smoothed)"
   ]
  },
  {
   "cell_type": "code",
   "execution_count": 56,
   "metadata": {},
   "outputs": [
    {
     "name": "stdout",
     "output_type": "stream",
     "text": [
      "(1828, 92672, 1)\n",
      "(624, 85500, 1)\n"
     ]
    }
   ],
   "source": [
    "print(X_train_smoothed.shape)\n",
    "print(X_test_smoothed.shape)"
   ]
  },
  {
   "cell_type": "markdown",
   "metadata": {},
   "source": [
    "<h4>Approximation</h4>\n",
    "Facciamo tre versioni: SAX, PAA e DFT"
   ]
  },
  {
   "cell_type": "code",
   "execution_count": 66,
   "metadata": {},
   "outputs": [],
   "source": [
    "## SAX with 50 symbols and 500 segments - erano quelli che plottando la TS davano risultato migliore\n",
    "\n",
    "n_sax_symbols = 50\n",
    "sax = SymbolicAggregateApproximation(n_segments=500, \n",
    "                                     alphabet_size_avg=n_sax_symbols)\n",
    "X_train_sax = sax.fit_transform(X_train_smoothed)\n",
    "#sax_dataset_inv = sax.inverse_transform(X_train_sax)"
   ]
  },
  {
   "cell_type": "code",
   "execution_count": 67,
   "metadata": {},
   "outputs": [
    {
     "data": {
      "text/plain": [
       "(1828, 500, 1)"
      ]
     },
     "execution_count": 67,
     "metadata": {},
     "output_type": "execute_result"
    }
   ],
   "source": [
    "X_train_sax.shape"
   ]
  },
  {
   "cell_type": "code",
   "execution_count": 68,
   "metadata": {},
   "outputs": [
    {
     "data": {
      "text/plain": [
       "(array([19, 20, 21, 22, 23, 24, 25, 26, 27, 28, 29, 31]),\n",
       " array([  1,   2,   5,  17,  37, 202, 183,  21,  23,   5,   3,   1]))"
      ]
     },
     "execution_count": 68,
     "metadata": {},
     "output_type": "execute_result"
    }
   ],
   "source": [
    "np.unique(X_train_sax[42], return_counts=True)"
   ]
  },
  {
   "cell_type": "code",
   "execution_count": 69,
   "metadata": {},
   "outputs": [
    {
     "data": {
      "text/plain": [
       "[<matplotlib.lines.Line2D at 0x7fcb92730370>]"
      ]
     },
     "execution_count": 69,
     "metadata": {},
     "output_type": "execute_result"
    },
    {
     "data": {
      "image/png": "[encoded data removed]",
      "text/plain": [
       "<Figure size 640x480 with 1 Axes>"
      ]
     },
     "metadata": {},
     "output_type": "display_data"
    }
   ],
   "source": [
    "plt.plot(X_train_sax[42])"
   ]
  },
  {
   "cell_type": "code",
   "execution_count": 70,
   "metadata": {},
   "outputs": [],
   "source": [
    "## DFT\n",
    "\n",
    "from pyts.approximation import DiscreteFourierTransform"
   ]
  },
  {
   "cell_type": "code",
   "execution_count": 74,
   "metadata": {},
   "outputs": [],
   "source": [
    "X_train=np.load('RavdessAudioOnlyNumpy__X_train.npy')"
   ]
  },
  {
   "cell_type": "code",
   "execution_count": 75,
   "metadata": {},
   "outputs": [],
   "source": [
    "X_train=np.nan_to_num(X_train, nan=0)"
   ]
  },
  {
   "cell_type": "code",
   "execution_count": 76,
   "metadata": {},
   "outputs": [],
   "source": [
    "dft = DiscreteFourierTransform(n_coefs=64)\n",
    "X_train_DFT = dft.fit_transform(X_train)"
   ]
  },
  {
   "cell_type": "code",
   "execution_count": 77,
   "metadata": {},
   "outputs": [
    {
     "data": {
      "text/plain": [
       "[<matplotlib.lines.Line2D at 0x7fcb926b0430>]"
      ]
     },
     "execution_count": 77,
     "metadata": {},
     "output_type": "execute_result"
    },
    {
     "data": {
      "image/png": "[encoded data removed]",
      "text/plain": [
       "<Figure size 640x480 with 1 Axes>"
      ]
     },
     "metadata": {},
     "output_type": "display_data"
    }
   ],
   "source": [
    "plt.plot(X_train_DFT[42])"
   ]
  },
  {
   "cell_type": "code",
   "execution_count": 78,
   "metadata": {},
   "outputs": [
    {
     "data": {
      "text/plain": [
       "(1828, 64)"
      ]
     },
     "execution_count": 78,
     "metadata": {},
     "output_type": "execute_result"
    }
   ],
   "source": [
    "X_train_DFT.shape"
   ]
  },
  {
   "cell_type": "code",
   "execution_count": 83,
   "metadata": {},
   "outputs": [],
   "source": [
    "#PAA con 500 segmenti (per coerenza e confronto con sax)\n",
    "\n",
    "paa = PiecewiseAggregateApproximation(n_segments=500)\n",
    "X_train_paa = paa.fit_transform(X_train_smoothed)"
   ]
  },
  {
   "cell_type": "code",
   "execution_count": 84,
   "metadata": {},
   "outputs": [
    {
     "data": {
      "text/plain": [
       "(1828, 500, 1)"
      ]
     },
     "execution_count": 84,
     "metadata": {},
     "output_type": "execute_result"
    }
   ],
   "source": [
    "X_train_paa.shape"
   ]
  },
  {
   "cell_type": "code",
   "execution_count": 86,
   "metadata": {},
   "outputs": [
    {
     "data": {
      "text/plain": [
       "[<matplotlib.lines.Line2D at 0x7fcbb61bb3d0>]"
      ]
     },
     "execution_count": 86,
     "metadata": {},
     "output_type": "execute_result"
    },
    {
     "data": {
      "image/png": "[encoded data removed]",
      "text/plain": [
       "<Figure size 640x480 with 1 Axes>"
      ]
     },
     "metadata": {},
     "output_type": "display_data"
    }
   ],
   "source": [
    "plt.plot(X_train_paa[42])"
   ]
  },
  {
   "cell_type": "code",
   "execution_count": 87,
   "metadata": {},
   "outputs": [],
   "source": [
    "np.save(\"X_train_sax.npy\", X_train_sax)\n",
    "np.save(\"X_train_dft.npy\", X_train_DFT)\n",
    "np.save(\"X_train_paa.npy\", X_train_paa)\n"
   ]
  },
  {
   "cell_type": "code",
   "execution_count": null,
   "metadata": {},
   "outputs": [],
   "source": []
  }
 ],
 "metadata": {
  "kernelspec": {
   "display_name": "base",
   "language": "python",
   "name": "python3"
  },
  "language_info": {
   "codemirror_mode": {
    "name": "ipython",
    "version": 3
   },
   "file_extension": ".py",
   "mimetype": "text/x-python",
   "name": "python",
   "nbconvert_exporter": "python",
   "pygments_lexer": "ipython3",
   "version": "3.9.13"
  }
 },
 "nbformat": 4,
 "nbformat_minor": 2
}
